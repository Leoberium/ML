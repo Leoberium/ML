{
 "cells": [
  {
   "cell_type": "markdown",
   "metadata": {},
   "source": [
    "# 2.2 Using the latest features of Python 3"
   ]
  },
  {
   "cell_type": "code",
   "execution_count": 1,
   "metadata": {},
   "outputs": [],
   "source": [
    "from pathlib import Path"
   ]
  },
  {
   "cell_type": "code",
   "execution_count": 2,
   "metadata": {},
   "outputs": [],
   "source": [
    "p = Path(\".\")"
   ]
  },
  {
   "cell_type": "code",
   "execution_count": 3,
   "metadata": {},
   "outputs": [
    {
     "data": {
      "text/plain": [
       "[PosixPath('csvmagic.py'),\n",
       " PosixPath('plotkernel.py'),\n",
       " PosixPath('random_magics.py')]"
      ]
     },
     "execution_count": 3,
     "metadata": {},
     "output_type": "execute_result"
    }
   ],
   "source": [
    "sorted(p.glob(\"*.py\"))"
   ]
  },
  {
   "cell_type": "code",
   "execution_count": 4,
   "metadata": {},
   "outputs": [
    {
     "data": {
      "text/plain": [
       "'import pandas as pd\\nfrom io import StringIO\\n\\ndef csv(line, cell):\\n    sio = StringIO(cell)\\n    return pd.read_csv(sio)\\n\\ndef load_ipython_extension(ipython):\\n    \"\"\"This function is called when the extension is loaded.\\n    It accepts an IPython InteractiveShell instance. We can register\\n    the magic with the `register_magic_function` method of the shell instance.\"\"\"\\n    ipython.register_magic_function(csv, \"cell\")\\n'"
      ]
     },
     "execution_count": 4,
     "metadata": {},
     "output_type": "execute_result"
    }
   ],
   "source": [
    "_[0].read_text()"
   ]
  },
  {
   "cell_type": "code",
   "execution_count": 5,
   "metadata": {},
   "outputs": [
    {
     "data": {
      "text/plain": [
       "[PosixPath('__pycache__'), PosixPath('.ipynb_checkpoints')]"
      ]
     },
     "execution_count": 5,
     "metadata": {},
     "output_type": "execute_result"
    }
   ],
   "source": [
    "[d for d in p.iterdir() if d.is_dir()]"
   ]
  },
  {
   "cell_type": "code",
   "execution_count": 6,
   "metadata": {},
   "outputs": [
    {
     "data": {
      "text/plain": [
       "[PosixPath('__pycache__/random_magics.cpython-37.pyc'),\n",
       " PosixPath('__pycache__/csvmagic.cpython-37.pyc')]"
      ]
     },
     "execution_count": 6,
     "metadata": {},
     "output_type": "execute_result"
    }
   ],
   "source": [
    "list((p / \"__pycache__\").iterdir())"
   ]
  },
  {
   "cell_type": "code",
   "execution_count": 7,
   "metadata": {},
   "outputs": [],
   "source": [
    "import random as r\n",
    "import statistics as st"
   ]
  },
  {
   "cell_type": "code",
   "execution_count": 8,
   "metadata": {},
   "outputs": [],
   "source": [
    "my_list = [r.normalvariate(0, 1) for _ in range(100000)]"
   ]
  },
  {
   "cell_type": "code",
   "execution_count": 9,
   "metadata": {},
   "outputs": [
    {
     "name": "stdout",
     "output_type": "stream",
     "text": [
      "-0.001710511964528084 -0.0014594009068555733 1.0017700572261306\n"
     ]
    }
   ],
   "source": [
    "print(st.mean(my_list), st.median(my_list), st.stdev(my_list))"
   ]
  },
  {
   "cell_type": "markdown",
   "metadata": {},
   "source": [
    "# 2.8 Writing unit tests with py.test"
   ]
  },
  {
   "cell_type": "code",
   "execution_count": 10,
   "metadata": {},
   "outputs": [
    {
     "name": "stdout",
     "output_type": "stream",
     "text": [
      "Writing first.py\n"
     ]
    }
   ],
   "source": [
    "%%writefile first.py\n",
    "def first(l):\n",
    "    return l[0]"
   ]
  },
  {
   "cell_type": "code",
   "execution_count": 11,
   "metadata": {},
   "outputs": [
    {
     "name": "stdout",
     "output_type": "stream",
     "text": [
      "Appending to first.py\n"
     ]
    }
   ],
   "source": [
    "%%writefile -a first.py\n",
    "\n",
    "\n",
    "def test_first():\n",
    "    assert first([1, 2, 3]) == 1"
   ]
  },
  {
   "cell_type": "code",
   "execution_count": 12,
   "metadata": {},
   "outputs": [
    {
     "name": "stdout",
     "output_type": "stream",
     "text": [
      "def first(l):\n",
      "    return l[0]\n",
      "\n",
      "\n",
      "def test_first():\n",
      "    assert first([1, 2, 3]) == 1\n"
     ]
    }
   ],
   "source": [
    "%cat first.py"
   ]
  },
  {
   "cell_type": "code",
   "execution_count": 13,
   "metadata": {},
   "outputs": [
    {
     "name": "stdout",
     "output_type": "stream",
     "text": [
      "\u001b[1m============================= test session starts ==============================\u001b[0m\n",
      "platform linux -- Python 3.7.9, pytest-6.0.2, py-1.9.0, pluggy-0.13.1\n",
      "rootdir: /home/leo/m_ml/jupyter_learning\n",
      "plugins: hypothesis-5.35.4\n",
      "collected 1 item                                                               \u001b[0m\n",
      "\n",
      "first.py \u001b[32m.\u001b[0m\u001b[32m                                                               [100%]\u001b[0m\n",
      "\n",
      "\u001b[32m============================== \u001b[32m\u001b[1m1 passed\u001b[0m\u001b[32m in 0.01s\u001b[0m\u001b[32m ===============================\u001b[0m\n"
     ]
    }
   ],
   "source": [
    "!pytest first.py"
   ]
  },
  {
   "cell_type": "code",
   "execution_count": 14,
   "metadata": {},
   "outputs": [
    {
     "name": "stdout",
     "output_type": "stream",
     "text": [
      "Overwriting first.py\n"
     ]
    }
   ],
   "source": [
    "%%writefile first.py\n",
    "def first(l):\n",
    "    return l[0]\n",
    "\n",
    "\n",
    "def test_first():\n",
    "    assert first([1, 2, 3]) == 1\n",
    "    assert first([]) is None"
   ]
  },
  {
   "cell_type": "code",
   "execution_count": 15,
   "metadata": {},
   "outputs": [
    {
     "name": "stdout",
     "output_type": "stream",
     "text": [
      "\u001b[1m============================= test session starts ==============================\u001b[0m\n",
      "platform linux -- Python 3.7.9, pytest-6.0.2, py-1.9.0, pluggy-0.13.1\n",
      "rootdir: /home/leo/m_ml/jupyter_learning\n",
      "plugins: hypothesis-5.35.4\n",
      "collected 1 item                                                               \u001b[0m\n",
      "\n",
      "first.py \u001b[31mF\u001b[0m\u001b[31m                                                               [100%]\u001b[0m\n",
      "\n",
      "=================================== FAILURES ===================================\n",
      "\u001b[31m\u001b[1m__________________________________ test_first __________________________________\u001b[0m\n",
      "\n",
      "    \u001b[94mdef\u001b[39;49;00m \u001b[92mtest_first\u001b[39;49;00m():\n",
      "        \u001b[94massert\u001b[39;49;00m first([\u001b[94m1\u001b[39;49;00m, \u001b[94m2\u001b[39;49;00m, \u001b[94m3\u001b[39;49;00m]) == \u001b[94m1\u001b[39;49;00m\n",
      ">       \u001b[94massert\u001b[39;49;00m first([]) \u001b[95mis\u001b[39;49;00m \u001b[94mNone\u001b[39;49;00m\n",
      "\n",
      "\u001b[1m\u001b[31mfirst.py\u001b[0m:7: \n",
      "_ _ _ _ _ _ _ _ _ _ _ _ _ _ _ _ _ _ _ _ _ _ _ _ _ _ _ _ _ _ _ _ _ _ _ _ _ _ _ _ \n",
      "\n",
      "l = []\n",
      "\n",
      "    \u001b[94mdef\u001b[39;49;00m \u001b[92mfirst\u001b[39;49;00m(l):\n",
      ">       \u001b[94mreturn\u001b[39;49;00m l[\u001b[94m0\u001b[39;49;00m]\n",
      "\u001b[1m\u001b[31mE       IndexError: list index out of range\u001b[0m\n",
      "\n",
      "\u001b[1m\u001b[31mfirst.py\u001b[0m:2: IndexError\n",
      "=========================== short test summary info ============================\n",
      "FAILED first.py::test_first - IndexError: list index out of range\n",
      "\u001b[31m============================== \u001b[31m\u001b[1m1 failed\u001b[0m\u001b[31m in 0.06s\u001b[0m\u001b[31m ===============================\u001b[0m\n"
     ]
    }
   ],
   "source": [
    "!pytest first.py"
   ]
  },
  {
   "cell_type": "code",
   "execution_count": 16,
   "metadata": {},
   "outputs": [
    {
     "name": "stdout",
     "output_type": "stream",
     "text": [
      "Overwriting first.py\n"
     ]
    }
   ],
   "source": [
    "%%writefile first.py\n",
    "def first(l):\n",
    "    return l[0] if l else None\n",
    "\n",
    "\n",
    "def test_first():\n",
    "    assert first([1, 2, 3]) == 1\n",
    "    assert first([]) is None"
   ]
  },
  {
   "cell_type": "code",
   "execution_count": 17,
   "metadata": {},
   "outputs": [
    {
     "name": "stdout",
     "output_type": "stream",
     "text": [
      "\u001b[1m============================= test session starts ==============================\u001b[0m\n",
      "platform linux -- Python 3.7.9, pytest-6.0.2, py-1.9.0, pluggy-0.13.1\n",
      "rootdir: /home/leo/m_ml/jupyter_learning\n",
      "plugins: hypothesis-5.35.4\n",
      "collected 1 item                                                               \u001b[0m\n",
      "\n",
      "first.py \u001b[32m.\u001b[0m\u001b[32m                                                               [100%]\u001b[0m\n",
      "\n",
      "\u001b[32m============================== \u001b[32m\u001b[1m1 passed\u001b[0m\u001b[32m in 0.01s\u001b[0m\u001b[32m ===============================\u001b[0m\n"
     ]
    }
   ],
   "source": [
    "!pytest first.py"
   ]
  }
 ],
 "metadata": {
  "kernelspec": {
   "display_name": "Python 3",
   "language": "python",
   "name": "python3"
  },
  "language_info": {
   "codemirror_mode": {
    "name": "ipython",
    "version": 3
   },
   "file_extension": ".py",
   "mimetype": "text/x-python",
   "name": "python",
   "nbconvert_exporter": "python",
   "pygments_lexer": "ipython3",
   "version": "3.7.9"
  }
 },
 "nbformat": 4,
 "nbformat_minor": 4
}
