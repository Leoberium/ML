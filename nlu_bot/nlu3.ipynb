{
 "cells": [
  {
   "cell_type": "code",
   "execution_count": 86,
   "metadata": {},
   "outputs": [],
   "source": [
    "import zipfile\n",
    "import nltk"
   ]
  },
  {
   "cell_type": "code",
   "execution_count": 87,
   "metadata": {},
   "outputs": [],
   "source": [
    "with zipfile.ZipFile(\"dialogues.zip\", \"r\") as zd:\n",
    "    with zd.open('dialogues.txt') as dialogues:\n",
    "        content = dialogues.read()"
   ]
  },
  {
   "cell_type": "code",
   "execution_count": 88,
   "metadata": {},
   "outputs": [],
   "source": [
    "blocks = content.decode(\"utf8\").split(\"\\n\\n\")"
   ]
  },
  {
   "cell_type": "code",
   "execution_count": 89,
   "metadata": {},
   "outputs": [
    {
     "data": {
      "text/plain": [
       "'- Пока, толстуха!\\n- Пока, малышка!'"
      ]
     },
     "execution_count": 89,
     "metadata": {},
     "output_type": "execute_result"
    }
   ],
   "source": [
    "blocks[0]"
   ]
  },
  {
   "cell_type": "code",
   "execution_count": 90,
   "metadata": {},
   "outputs": [],
   "source": [
    "dataset = []\n",
    "questions = set()"
   ]
  },
  {
   "cell_type": "code",
   "execution_count": 91,
   "metadata": {},
   "outputs": [],
   "source": [
    "def clear_query(text):\n",
    "    alphabet = \"абвгдеёжзийклмнопрстуфхцчшщъыьэюя0123456789- \"\n",
    "    result = ''\n",
    "    for c in text.lower():\n",
    "        if c in alphabet:\n",
    "            result += c\n",
    "    return result"
   ]
  },
  {
   "cell_type": "code",
   "execution_count": 92,
   "metadata": {},
   "outputs": [],
   "source": [
    "for block in blocks:\n",
    "    replicas = block.split(\"\\n\")[:2]\n",
    "    if len(replicas) == 2:\n",
    "        question = clear_query(replicas[0][2:])\n",
    "        answer = replicas[1][2:]\n",
    "        if question and answer and question not in questions:\n",
    "            questions.add(question)\n",
    "            dataset.append((question, answer))"
   ]
  },
  {
   "cell_type": "code",
   "execution_count": 93,
   "metadata": {},
   "outputs": [
    {
     "name": "stdout",
     "output_type": "stream",
     "text": [
      "604680\n"
     ]
    }
   ],
   "source": [
    "print(len(dataset))"
   ]
  },
  {
   "cell_type": "code",
   "execution_count": 94,
   "metadata": {},
   "outputs": [
    {
     "data": {
      "text/plain": [
       "('пока толстуха', 'Пока, малышка!')"
      ]
     },
     "execution_count": 94,
     "metadata": {},
     "output_type": "execute_result"
    }
   ],
   "source": [
    "dataset[0]"
   ]
  },
  {
   "cell_type": "code",
   "execution_count": 95,
   "metadata": {},
   "outputs": [],
   "source": [
    "search_dataset = {}\n",
    "for question, answer in dataset:\n",
    "    words = question.split(\" \")\n",
    "    for word in words:\n",
    "        if word in search_dataset:\n",
    "            search_dataset[word].append((question, answer))\n",
    "        else:\n",
    "            search_dataset[word] = [(question, answer)]"
   ]
  },
  {
   "cell_type": "code",
   "execution_count": 96,
   "metadata": {},
   "outputs": [
    {
     "name": "stdout",
     "output_type": "stream",
     "text": [
      "206918\n"
     ]
    }
   ],
   "source": [
    "print(len(search_dataset))"
   ]
  },
  {
   "cell_type": "code",
   "execution_count": 97,
   "metadata": {},
   "outputs": [],
   "source": [
    "search_dataset = {word: word_dataset \n",
    "                  for word, word_dataset \n",
    "                  in search_dataset.items() if len(word_dataset) < 5000\n",
    "                 }"
   ]
  },
  {
   "cell_type": "code",
   "execution_count": 136,
   "metadata": {},
   "outputs": [],
   "source": [
    "def get_response_generatively(text):\n",
    "    text = clear_query(text)\n",
    "    if not text:\n",
    "        return None\n",
    "    words = text.split(\" \")\n",
    "    \n",
    "    words_dataset = set()\n",
    "    for word in words:\n",
    "        \n",
    "        if word in search_dataset:\n",
    "            words_dataset |= set(search_dataset[word])\n",
    "            # print(word, len(search_dataset[word]))\n",
    "            \n",
    "    scores = []\n",
    "            \n",
    "    for question, answer in words_dataset:\n",
    "        if abs(len(text) - len(question)) / len(question) >= 0.4:\n",
    "            continue\n",
    "        distance = nltk.edit_distance(text, question)\n",
    "        score = distance / len(question)\n",
    "        if score < 0.4:\n",
    "            scores.append([score, question, answer])\n",
    "    if scores:\n",
    "        return min(scores, key=lambda s: s[0])[2]"
   ]
  },
  {
   "cell_type": "code",
   "execution_count": 137,
   "metadata": {},
   "outputs": [
    {
     "data": {
      "text/plain": [
       "'Привет!'"
      ]
     },
     "execution_count": 137,
     "metadata": {},
     "output_type": "execute_result"
    }
   ],
   "source": [
    "get_response_generatively(\"Привет\")"
   ]
  },
  {
   "cell_type": "code",
   "execution_count": 138,
   "metadata": {},
   "outputs": [
    {
     "data": {
      "text/plain": [
       "'Что насчет нее?'"
      ]
     },
     "execution_count": 138,
     "metadata": {},
     "output_type": "execute_result"
    }
   ],
   "source": [
    "get_response_generatively(\"Пока\")"
   ]
  },
  {
   "cell_type": "code",
   "execution_count": 139,
   "metadata": {},
   "outputs": [
    {
     "data": {
      "text/plain": [
       "'Какая разница...'"
      ]
     },
     "execution_count": 139,
     "metadata": {},
     "output_type": "execute_result"
    }
   ],
   "source": [
    "get_response_generatively(\"Сколько тебе лет?\")"
   ]
  },
  {
   "cell_type": "code",
   "execution_count": 140,
   "metadata": {},
   "outputs": [
    {
     "data": {
      "text/plain": [
       "'Кобыла.'"
      ]
     },
     "execution_count": 140,
     "metadata": {},
     "output_type": "execute_result"
    }
   ],
   "source": [
    "get_response_generatively(\"Ты мальчик или девочка?\")"
   ]
  },
  {
   "cell_type": "code",
   "execution_count": 141,
   "metadata": {},
   "outputs": [
    {
     "data": {
      "text/plain": [
       "'Луиза.'"
      ]
     },
     "execution_count": 141,
     "metadata": {},
     "output_type": "execute_result"
    }
   ],
   "source": [
    "get_response_generatively(\"скажи свое имя\")"
   ]
  },
  {
   "cell_type": "code",
   "execution_count": null,
   "metadata": {},
   "outputs": [],
   "source": []
  }
 ],
 "metadata": {
  "kernelspec": {
   "display_name": "Python 3",
   "language": "python",
   "name": "python3"
  },
  "language_info": {
   "codemirror_mode": {
    "name": "ipython",
    "version": 3
   },
   "file_extension": ".py",
   "mimetype": "text/x-python",
   "name": "python",
   "nbconvert_exporter": "python",
   "pygments_lexer": "ipython3",
   "version": "3.7.9"
  }
 },
 "nbformat": 4,
 "nbformat_minor": 4
}
