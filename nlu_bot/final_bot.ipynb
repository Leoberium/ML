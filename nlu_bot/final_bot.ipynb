{
 "cells": [
  {
   "cell_type": "code",
   "execution_count": 1,
   "metadata": {},
   "outputs": [],
   "source": [
    "import nltk\n",
    "import zipfile\n",
    "import random\n",
    "import logging\n",
    "from sklearn.linear_model import LogisticRegression\n",
    "from sklearn.svm import LinearSVC, SVC\n",
    "from sklearn.feature_extraction.text import TfidfVectorizer, CountVectorizer\n",
    "from final_config import FINAL_CONFIG\n",
    "from telegram.ext import Updater, CommandHandler, MessageHandler, Filters\n",
    "BOT_CONFIG = FINAL_CONFIG"
   ]
  },
  {
   "cell_type": "code",
   "execution_count": 2,
   "metadata": {},
   "outputs": [],
   "source": [
    "dataset = []\n",
    "\n",
    "for intent, intent_data in BOT_CONFIG[\"intents\"].items():\n",
    "    for example in intent_data[\"examples\"]:\n",
    "        dataset.append((example, intent))\n",
    "        \n",
    "corpus = [text for text, intent in dataset]\n",
    "y = [intent for text, intent in dataset]"
   ]
  },
  {
   "cell_type": "code",
   "execution_count": 3,
   "metadata": {},
   "outputs": [],
   "source": [
    "vectorizer = CountVectorizer(ngram_range=(1, 1))\n",
    "X = vectorizer.fit_transform(corpus)"
   ]
  },
  {
   "cell_type": "code",
   "execution_count": 4,
   "metadata": {},
   "outputs": [
    {
     "data": {
      "text/plain": [
       "SVC(probability=True)"
      ]
     },
     "execution_count": 4,
     "metadata": {},
     "output_type": "execute_result"
    }
   ],
   "source": [
    "clf = SVC(probability=True)\n",
    "clf.fit(X, y)"
   ]
  },
  {
   "cell_type": "code",
   "execution_count": 5,
   "metadata": {},
   "outputs": [
    {
     "data": {
      "text/plain": [
       "0.6032608695652174"
      ]
     },
     "execution_count": 5,
     "metadata": {},
     "output_type": "execute_result"
    }
   ],
   "source": [
    "clf.score(X, y)"
   ]
  },
  {
   "cell_type": "code",
   "execution_count": 6,
   "metadata": {},
   "outputs": [],
   "source": [
    "def get_intent(text):\n",
    "    proba_list = clf.predict_proba(vectorizer.transform([text]))[0]\n",
    "    max_proba = max(proba_list)\n",
    "    print(text, clf.predict(vectorizer.transform([text])), max_proba)\n",
    "    if max_proba > 0.1:\n",
    "        index = proba_list.argmax()\n",
    "        return clf.classes_[index]"
   ]
  },
  {
   "cell_type": "code",
   "execution_count": 7,
   "metadata": {},
   "outputs": [],
   "source": [
    "def get_response_by_intent(intent):\n",
    "    return random.choice(BOT_CONFIG[\"intents\"][intent][\"responses\"])    "
   ]
  },
  {
   "cell_type": "code",
   "execution_count": 8,
   "metadata": {},
   "outputs": [],
   "source": [
    "with zipfile.ZipFile(\"dialogues.zip\", \"r\") as zd:\n",
    "    with zd.open('dialogues.txt') as dialogues:\n",
    "        content = dialogues.read()"
   ]
  },
  {
   "cell_type": "code",
   "execution_count": 9,
   "metadata": {},
   "outputs": [],
   "source": [
    "blocks = content.decode(\"utf8\").split(\"\\n\\n\")"
   ]
  },
  {
   "cell_type": "code",
   "execution_count": 10,
   "metadata": {},
   "outputs": [],
   "source": [
    "dataset = []\n",
    "questions = set()"
   ]
  },
  {
   "cell_type": "code",
   "execution_count": 11,
   "metadata": {},
   "outputs": [],
   "source": [
    "def clear_query(text):\n",
    "    alphabet = \"абвгдеёжзийклмнопрстуфхцчшщъыьэюя0123456789- \"\n",
    "    result = ''\n",
    "    for c in text.lower():\n",
    "        if c in alphabet:\n",
    "            result += c\n",
    "    return result"
   ]
  },
  {
   "cell_type": "code",
   "execution_count": 12,
   "metadata": {},
   "outputs": [],
   "source": [
    "for block in blocks:\n",
    "    replicas = block.split(\"\\n\")[:2]\n",
    "    if len(replicas) == 2:\n",
    "        question = clear_query(replicas[0][2:])\n",
    "        answer = replicas[1][2:]\n",
    "        if question and answer and question not in questions:\n",
    "            questions.add(question)\n",
    "            dataset.append((question, answer))"
   ]
  },
  {
   "cell_type": "code",
   "execution_count": 13,
   "metadata": {},
   "outputs": [],
   "source": [
    "search_dataset = {}\n",
    "for question, answer in dataset:\n",
    "    words = question.split(\" \")\n",
    "    for word in words:\n",
    "        if word in search_dataset:\n",
    "            search_dataset[word].append((question, answer))\n",
    "        else:\n",
    "            search_dataset[word] = [(question, answer)]"
   ]
  },
  {
   "cell_type": "code",
   "execution_count": 14,
   "metadata": {},
   "outputs": [],
   "source": [
    "search_dataset = {word: word_dataset \n",
    "                  for word, word_dataset \n",
    "                  in search_dataset.items() if len(word_dataset) < 5000\n",
    "                 }"
   ]
  },
  {
   "cell_type": "code",
   "execution_count": 15,
   "metadata": {},
   "outputs": [],
   "source": [
    "def get_response_generatively(text):\n",
    "    text = clear_query(text)\n",
    "    if not text:\n",
    "        return None\n",
    "    words = text.split(\" \")\n",
    "    \n",
    "    words_dataset = set()\n",
    "    for word in words:\n",
    "        \n",
    "        if word in search_dataset:\n",
    "            words_dataset |= set(search_dataset[word])\n",
    "            # print(word, len(search_dataset[word]))\n",
    "            \n",
    "    scores = []\n",
    "            \n",
    "    for question, answer in words_dataset:\n",
    "        if abs(len(text) - len(question)) / len(question) >= 0.4:\n",
    "            continue\n",
    "        distance = nltk.edit_distance(text, question)\n",
    "        score = distance / len(question)\n",
    "        if score < 0.4:\n",
    "            scores.append([score, question, answer])\n",
    "    if scores:\n",
    "        return min(scores, key=lambda s: s[0])[2]"
   ]
  },
  {
   "cell_type": "code",
   "execution_count": 16,
   "metadata": {},
   "outputs": [],
   "source": [
    "def get_failure_phrase():\n",
    "    return random.choice(BOT_CONFIG[\"failure_phrases\"])"
   ]
  },
  {
   "cell_type": "code",
   "execution_count": 17,
   "metadata": {},
   "outputs": [
    {
     "data": {
      "text/plain": [
       "'Привет!'"
      ]
     },
     "execution_count": 17,
     "metadata": {},
     "output_type": "execute_result"
    }
   ],
   "source": [
    "get_response_generatively(\"привет\")"
   ]
  },
  {
   "cell_type": "code",
   "execution_count": 18,
   "metadata": {},
   "outputs": [],
   "source": [
    "stats = {\"intent\": 0, \"generative\": 0, \"fails\": 0}"
   ]
  },
  {
   "cell_type": "code",
   "execution_count": 19,
   "metadata": {},
   "outputs": [],
   "source": [
    "def bot(request: str):\n",
    "    # NLU\n",
    "    intent = get_intent(request)\n",
    "    \n",
    "    # Generate answer\n",
    "    if intent:\n",
    "        stats[\"intent\"] += 1\n",
    "        return get_response_by_intent(intent)\n",
    "    \n",
    "    response = get_response_generatively(request)\n",
    "    if response:\n",
    "        stats[\"generative\"] += 1\n",
    "        return response\n",
    "        \n",
    "    stats[\"fails\"] += 1\n",
    "    return get_failure_phrase()"
   ]
  },
  {
   "cell_type": "code",
   "execution_count": 20,
   "metadata": {},
   "outputs": [
    {
     "name": "stdout",
     "output_type": "stream",
     "text": [
      "сколько тебе лет ['country'] 0.07488042747038451\n"
     ]
    },
    {
     "data": {
      "text/plain": [
       "'Какая разница...'"
      ]
     },
     "execution_count": 20,
     "metadata": {},
     "output_type": "execute_result"
    }
   ],
   "source": [
    "bot(\"сколько тебе лет\")"
   ]
  },
  {
   "cell_type": "code",
   "execution_count": 21,
   "metadata": {},
   "outputs": [
    {
     "data": {
      "text/plain": [
       "{'intent': 0, 'generative': 1, 'fails': 0}"
      ]
     },
     "execution_count": 21,
     "metadata": {},
     "output_type": "execute_result"
    }
   ],
   "source": [
    "stats"
   ]
  },
  {
   "cell_type": "code",
   "execution_count": 22,
   "metadata": {},
   "outputs": [
    {
     "name": "stdout",
     "output_type": "stream",
     "text": [
      "ты кто ['programm'] 0.08365518476802923\n"
     ]
    },
    {
     "data": {
      "text/plain": [
       "'Что-то тут не то'"
      ]
     },
     "execution_count": 22,
     "metadata": {},
     "output_type": "execute_result"
    }
   ],
   "source": [
    "bot(\"ты кто\")"
   ]
  },
  {
   "cell_type": "code",
   "execution_count": 23,
   "metadata": {},
   "outputs": [
    {
     "name": "stdout",
     "output_type": "stream",
     "text": [
      "как вас зовут ['emotion'] 0.05043780754504982\n"
     ]
    },
    {
     "data": {
      "text/plain": [
       "'Сестра Тереза.'"
      ]
     },
     "execution_count": 23,
     "metadata": {},
     "output_type": "execute_result"
    }
   ],
   "source": [
    "bot(\"как вас зовут\")"
   ]
  },
  {
   "cell_type": "code",
   "execution_count": 24,
   "metadata": {},
   "outputs": [],
   "source": [
    "def start(update, context):\n",
    "    \"\"\"Send a message when the command /start is issued.\"\"\"\n",
    "    update.message.reply_text('Hi!')\n",
    "\n",
    "\n",
    "def help_command(update, context):\n",
    "    \"\"\"Send a message when the command /help is issued.\"\"\"\n",
    "    update.message.reply_text('Help!')\n",
    "\n",
    "\n",
    "def echo(update, context):\n",
    "    \"\"\"Echo the user message.\"\"\"\n",
    "    answer = bot(update.message.text)\n",
    "    update.message.reply_text(answer)\n",
    "    print()\n",
    "    print(stats)\n",
    "\n",
    "\n",
    "def main():\n",
    "    updater = Updater(\"_\", use_context=True)\n",
    "\n",
    "    dp = updater.dispatcher\n",
    "\n",
    "\n",
    "    dp.add_handler(CommandHandler(\"start\", start))\n",
    "    dp.add_handler(CommandHandler(\"help\", help_command))\n",
    "\n",
    "\n",
    "    dp.add_handler(MessageHandler(Filters.text & ~Filters.command, echo))\n",
    "\n",
    "    updater.start_polling()\n",
    "\n",
    "    updater.idle()"
   ]
  }
 ],
 "metadata": {
  "kernelspec": {
   "display_name": "Python 3",
   "language": "python",
   "name": "python3"
  },
  "language_info": {
   "codemirror_mode": {
    "name": "ipython",
    "version": 3
   },
   "file_extension": ".py",
   "mimetype": "text/x-python",
   "name": "python",
   "nbconvert_exporter": "python",
   "pygments_lexer": "ipython3",
   "version": "3.7.9"
  }
 },
 "nbformat": 4,
 "nbformat_minor": 4
}
