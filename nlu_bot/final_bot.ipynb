{
 "cells": [
  {
   "cell_type": "code",
   "execution_count": 1,
   "metadata": {},
   "outputs": [],
   "source": [
    "import nltk\n",
    "import zipfile\n",
    "import random\n",
    "import logging\n",
    "from sklearn.linear_model import LogisticRegression\n",
    "from sklearn.svm import LinearSVC, SVC\n",
    "from sklearn.feature_extraction.text import TfidfVectorizer, CountVectorizer\n",
    "from final_config import FINAL_CONFIG\n",
    "from telegram.ext import Updater, CommandHandler, MessageHandler, Filters\n",
    "BOT_CONFIG = FINAL_CONFIG"
   ]
  },
  {
   "cell_type": "code",
   "execution_count": 2,
   "metadata": {},
   "outputs": [],
   "source": [
    "dataset = []\n",
    "\n",
    "for intent, intent_data in BOT_CONFIG[\"intents\"].items():\n",
    "    for example in intent_data[\"examples\"]:\n",
    "        dataset.append((example, intent))\n",
    "        \n",
    "corpus = [text for text, intent in dataset]\n",
    "y = [intent for text, intent in dataset]"
   ]
  },
  {
   "cell_type": "code",
   "execution_count": 3,
   "metadata": {},
   "outputs": [],
   "source": [
    "vectorizer = CountVectorizer(ngram_range=(1, 1))\n",
    "X = vectorizer.fit_transform(corpus)"
   ]
  },
  {
   "cell_type": "code",
   "execution_count": 4,
   "metadata": {},
   "outputs": [
    {
     "data": {
      "text/plain": [
       "SVC(probability=True)"
      ]
     },
     "execution_count": 4,
     "metadata": {},
     "output_type": "execute_result"
    }
   ],
   "source": [
    "clf = SVC(probability=True)\n",
    "clf.fit(X, y)"
   ]
  },
  {
   "cell_type": "code",
   "execution_count": 5,
   "metadata": {},
   "outputs": [
    {
     "data": {
      "text/plain": [
       "0.6032608695652174"
      ]
     },
     "execution_count": 5,
     "metadata": {},
     "output_type": "execute_result"
    }
   ],
   "source": [
    "clf.score(X, y)"
   ]
  },
  {
   "cell_type": "code",
   "execution_count": 6,
   "metadata": {},
   "outputs": [],
   "source": [
    "def get_intent(text):\n",
    "    proba_list = clf.predict_proba(vectorizer.transform([text]))[0]\n",
    "    max_proba = max(proba_list)\n",
    "    print(text, clf.predict(vectorizer.transform([text])), max_proba)\n",
    "    if max_proba > 0.1:\n",
    "        index = proba_list.argmax()\n",
    "        return clf.classes_[index]"
   ]
  },
  {
   "cell_type": "code",
   "execution_count": 7,
   "metadata": {},
   "outputs": [],
   "source": [
    "def get_response_by_intent(intent):\n",
    "    return random.choice(BOT_CONFIG[\"intents\"][intent][\"responses\"])    "
   ]
  },
  {
   "cell_type": "code",
   "execution_count": 8,
   "metadata": {},
   "outputs": [],
   "source": [
    "with zipfile.ZipFile(\"dialogues.zip\", \"r\") as zd:\n",
    "    with zd.open('dialogues.txt') as dialogues:\n",
    "        content = dialogues.read()"
   ]
  },
  {
   "cell_type": "code",
   "execution_count": 9,
   "metadata": {},
   "outputs": [],
   "source": [
    "blocks = content.decode(\"utf8\").split(\"\\n\\n\")"
   ]
  },
  {
   "cell_type": "code",
   "execution_count": 10,
   "metadata": {},
   "outputs": [],
   "source": [
    "dataset = []\n",
    "questions = set()"
   ]
  },
  {
   "cell_type": "code",
   "execution_count": 11,
   "metadata": {},
   "outputs": [],
   "source": [
    "def clear_query(text):\n",
    "    alphabet = \"абвгдеёжзийклмнопрстуфхцчшщъыьэюя0123456789- \"\n",
    "    result = ''\n",
    "    for c in text.lower():\n",
    "        if c in alphabet:\n",
    "            result += c\n",
    "    return result"
   ]
  },
  {
   "cell_type": "code",
   "execution_count": 12,
   "metadata": {},
   "outputs": [],
   "source": [
    "for block in blocks:\n",
    "    replicas = block.split(\"\\n\")[:2]\n",
    "    if len(replicas) == 2:\n",
    "        question = clear_query(replicas[0][2:])\n",
    "        answer = replicas[1][2:]\n",
    "        if question and answer and question not in questions:\n",
    "            questions.add(question)\n",
    "            dataset.append((question, answer))"
   ]
  },
  {
   "cell_type": "code",
   "execution_count": 13,
   "metadata": {},
   "outputs": [],
   "source": [
    "search_dataset = {}\n",
    "for question, answer in dataset:\n",
    "    words = question.split(\" \")\n",
    "    for word in words:\n",
    "        if word in search_dataset:\n",
    "            search_dataset[word].append((question, answer))\n",
    "        else:\n",
    "            search_dataset[word] = [(question, answer)]"
   ]
  },
  {
   "cell_type": "code",
   "execution_count": 14,
   "metadata": {},
   "outputs": [],
   "source": [
    "search_dataset = {word: word_dataset \n",
    "                  for word, word_dataset \n",
    "                  in search_dataset.items() if len(word_dataset) < 5000\n",
    "                 }"
   ]
  },
  {
   "cell_type": "code",
   "execution_count": 15,
   "metadata": {},
   "outputs": [],
   "source": [
    "def get_response_generatively(text):\n",
    "    text = clear_query(text)\n",
    "    if not text:\n",
    "        return None\n",
    "    words = text.split(\" \")\n",
    "    \n",
    "    words_dataset = set()\n",
    "    for word in words:\n",
    "        \n",
    "        if word in search_dataset:\n",
    "            words_dataset |= set(search_dataset[word])\n",
    "            # print(word, len(search_dataset[word]))\n",
    "            \n",
    "    scores = []\n",
    "            \n",
    "    for question, answer in words_dataset:\n",
    "        if abs(len(text) - len(question)) / len(question) >= 0.4:\n",
    "            continue\n",
    "        distance = nltk.edit_distance(text, question)\n",
    "        score = distance / len(question)\n",
    "        if score < 0.4:\n",
    "            scores.append([score, question, answer])\n",
    "    if scores:\n",
    "        return min(scores, key=lambda s: s[0])[2]"
   ]
  },
  {
   "cell_type": "code",
   "execution_count": 16,
   "metadata": {},
   "outputs": [],
   "source": [
    "def get_failure_phrase():\n",
    "    return random.choice(BOT_CONFIG[\"failure_phrases\"])"
   ]
  },
  {
   "cell_type": "code",
   "execution_count": 17,
   "metadata": {},
   "outputs": [
    {
     "data": {
      "text/plain": [
       "'Привет!'"
      ]
     },
     "execution_count": 17,
     "metadata": {},
     "output_type": "execute_result"
    }
   ],
   "source": [
    "get_response_generatively(\"привет\")"
   ]
  },
  {
   "cell_type": "code",
   "execution_count": 18,
   "metadata": {},
   "outputs": [],
   "source": [
    "stats = {\"intent\": 0, \"generative\": 0, \"fails\": 0}"
   ]
  },
  {
   "cell_type": "code",
   "execution_count": 19,
   "metadata": {},
   "outputs": [],
   "source": [
    "def bot(request: str):\n",
    "    # NLU\n",
    "    intent = get_intent(request)\n",
    "    \n",
    "    # Generate answer\n",
    "    if intent:\n",
    "        stats[\"intent\"] += 1\n",
    "        return get_response_by_intent(intent)\n",
    "    \n",
    "    response = get_response_generatively(request)\n",
    "    if response:\n",
    "        stats[\"generative\"] += 1\n",
    "        return response\n",
    "        \n",
    "    stats[\"fails\"] += 1\n",
    "    return get_failure_phrase()"
   ]
  },
  {
   "cell_type": "code",
   "execution_count": 20,
   "metadata": {},
   "outputs": [
    {
     "name": "stdout",
     "output_type": "stream",
     "text": [
      "сколько тебе лет ['country'] 0.047191427126573766\n"
     ]
    },
    {
     "data": {
      "text/plain": [
       "'Какая разница...'"
      ]
     },
     "execution_count": 20,
     "metadata": {},
     "output_type": "execute_result"
    }
   ],
   "source": [
    "bot(\"сколько тебе лет\")"
   ]
  },
  {
   "cell_type": "code",
   "execution_count": 21,
   "metadata": {},
   "outputs": [
    {
     "data": {
      "text/plain": [
       "{'intent': 0, 'generative': 1, 'fails': 0}"
      ]
     },
     "execution_count": 21,
     "metadata": {},
     "output_type": "execute_result"
    }
   ],
   "source": [
    "stats"
   ]
  },
  {
   "cell_type": "code",
   "execution_count": 22,
   "metadata": {},
   "outputs": [
    {
     "name": "stdout",
     "output_type": "stream",
     "text": [
      "ты кто ['programm'] 0.10655026265008989\n"
     ]
    },
    {
     "data": {
      "text/plain": [
       "'Замечательно, а как ты?'"
      ]
     },
     "execution_count": 22,
     "metadata": {},
     "output_type": "execute_result"
    }
   ],
   "source": [
    "bot(\"ты кто\")"
   ]
  },
  {
   "cell_type": "code",
   "execution_count": 23,
   "metadata": {},
   "outputs": [
    {
     "name": "stdout",
     "output_type": "stream",
     "text": [
      "как вас зовут ['emotion'] 0.048279541399502295\n"
     ]
    },
    {
     "data": {
      "text/plain": [
       "'Сестра Тереза.'"
      ]
     },
     "execution_count": 23,
     "metadata": {},
     "output_type": "execute_result"
    }
   ],
   "source": [
    "bot(\"как вас зовут\")"
   ]
  },
  {
   "cell_type": "code",
   "execution_count": 24,
   "metadata": {},
   "outputs": [],
   "source": [
    "def start(update, context):\n",
    "    \"\"\"Send a message when the command /start is issued.\"\"\"\n",
    "    update.message.reply_text('Hi!')\n",
    "\n",
    "\n",
    "def help_command(update, context):\n",
    "    \"\"\"Send a message when the command /help is issued.\"\"\"\n",
    "    update.message.reply_text('Help!')\n",
    "\n",
    "\n",
    "def echo(update, context):\n",
    "    \"\"\"Echo the user message.\"\"\"\n",
    "    answer = bot(update.message.text)\n",
    "    update.message.reply_text(answer)\n",
    "    print()\n",
    "    print(stats)\n",
    "\n",
    "\n",
    "def main():\n",
    "    updater = Updater(\"1221938593:AAHLhn-M7YmwrqmAb0CM53gXsBjgWa9VxC8\", use_context=True)\n",
    "\n",
    "    dp = updater.dispatcher\n",
    "\n",
    "\n",
    "    dp.add_handler(CommandHandler(\"start\", start))\n",
    "    dp.add_handler(CommandHandler(\"help\", help_command))\n",
    "\n",
    "\n",
    "    dp.add_handler(MessageHandler(Filters.text & ~Filters.command, echo))\n",
    "\n",
    "    updater.start_polling()\n",
    "\n",
    "    updater.idle()"
   ]
  },
  {
   "cell_type": "code",
   "execution_count": 25,
   "metadata": {},
   "outputs": [
    {
     "name": "stdout",
     "output_type": "stream",
     "text": [
      "Hi ['hello'] 0.23755943985979053\n",
      "\n",
      "{'intent': 2, 'generative': 2, 'fails': 0}\n",
      "Так ['country'] 0.11690790038052518\n",
      "\n",
      "{'intent': 3, 'generative': 2, 'fails': 0}\n",
      "123 ['hello'] 0.174130692069454\n",
      "\n",
      "{'intent': 4, 'generative': 2, 'fails': 0}\n",
      "Ты пидор ['emotion'] 0.0819318676050925\n",
      "\n",
      "{'intent': 4, 'generative': 2, 'fails': 1}\n",
      "Ты пидор ['emotion'] 0.0819318676050925\n",
      "\n",
      "{'intent': 4, 'generative': 2, 'fails': 2}\n",
      "Ты пидор ['emotion'] 0.0819318676050925\n",
      "\n",
      "{'intent': 4, 'generative': 2, 'fails': 3}\n",
      "Ты пидор ['emotion'] 0.0819318676050925\n",
      "\n",
      "{'intent': 4, 'generative': 2, 'fails': 4}\n",
      "Скачать читы кс го ['country'] 0.09662825901592761\n",
      "\n",
      "{'intent': 4, 'generative': 2, 'fails': 5}\n",
      "Что такое баунтичитс ['country'] 0.05978427942997066\n",
      "\n",
      "{'intent': 4, 'generative': 3, 'fails': 5}\n",
      "Как наваливать на каршеринге ['emotion'] 0.0759599413429209\n",
      "\n",
      "{'intent': 4, 'generative': 3, 'fails': 6}\n",
      "Где купить некруху ['country'] 0.06455189988187737\n",
      "\n",
      "{'intent': 4, 'generative': 3, 'fails': 7}\n",
      "Хочу бмв ['country'] 0.3536356642462521\n",
      "\n",
      "{'intent': 5, 'generative': 3, 'fails': 7}\n",
      "Как долго рыгать ['emotion'] 0.1874113423309187\n",
      "\n",
      "{'intent': 6, 'generative': 3, 'fails': 7}\n",
      "Как перевернуть каптюр ['emotion'] 0.2543548435595861\n",
      "\n",
      "{'intent': 7, 'generative': 3, 'fails': 7}\n",
      "Ты даун ['emotion'] 0.0819318676050925\n",
      "\n",
      "{'intent': 7, 'generative': 4, 'fails': 7}\n",
      "То ['country'] 0.11718898192540715\n",
      "\n",
      "{'intent': 8, 'generative': 4, 'fails': 7}\n",
      "Хуюзер ['hello'] 0.174130692069454\n",
      "\n",
      "{'intent': 9, 'generative': 4, 'fails': 7}\n",
      "Ах ты пидрила ['emotion'] 0.0819318676050925\n",
      "\n",
      "{'intent': 9, 'generative': 5, 'fails': 7}\n",
      "Тебе двоечку прописать? ['country'] 0.06016982678652463\n",
      "\n",
      "{'intent': 9, 'generative': 5, 'fails': 8}\n",
      "Поехали в Тверь ['hello'] 0.25653227144104557\n",
      "\n",
      "{'intent': 10, 'generative': 5, 'fails': 8}\n",
      "пыня ['hello'] 0.174130692069454\n",
      "\n",
      "{'intent': 11, 'generative': 5, 'fails': 8}\n",
      "пыня ['hello'] 0.174130692069454\n",
      "\n",
      "{'intent': 12, 'generative': 5, 'fails': 8}\n",
      "пыня ['hello'] 0.174130692069454\n",
      "\n",
      "{'intent': 13, 'generative': 5, 'fails': 8}\n",
      "пыня ['hello'] 0.174130692069454\n",
      "\n",
      "{'intent': 14, 'generative': 5, 'fails': 8}\n",
      "пыня ['hello'] 0.174130692069454\n",
      "\n",
      "{'intent': 15, 'generative': 5, 'fails': 8}\n",
      "пыня ['hello'] 0.174130692069454\n",
      "\n",
      "{'intent': 16, 'generative': 5, 'fails': 8}\n",
      "пыня ['hello'] 0.174130692069454\n",
      "\n",
      "{'intent': 17, 'generative': 5, 'fails': 8}\n",
      "лолка ['hello'] 0.174130692069454\n",
      "\n",
      "{'intent': 18, 'generative': 5, 'fails': 8}\n",
      "че надо ['country'] 0.09475053973962616\n",
      "\n",
      "{'intent': 18, 'generative': 6, 'fails': 8}\n",
      "ты пынь ['emotion'] 0.0819318676050925\n",
      "\n",
      "{'intent': 18, 'generative': 6, 'fails': 9}\n",
      "какой отель тебе ['country'] 0.08232375181155\n",
      "\n",
      "{'intent': 18, 'generative': 7, 'fails': 9}\n",
      "Где бан ['country'] 0.08776307901913574\n",
      "\n",
      "{'intent': 18, 'generative': 7, 'fails': 10}\n",
      "Где бан ['country'] 0.08776307901913574\n",
      "\n",
      "{'intent': 18, 'generative': 7, 'fails': 11}\n",
      "Забан ['hello'] 0.174130692069454\n",
      "\n",
      "{'intent': 19, 'generative': 7, 'fails': 11}\n",
      "Замай ['hello'] 0.174130692069454\n",
      "\n",
      "{'intent': 20, 'generative': 7, 'fails': 11}\n",
      "куда вы бы хотели поехать отдохнуть ['country'] 0.41334686513393765\n",
      "\n",
      "{'intent': 21, 'generative': 7, 'fails': 11}\n",
      "где бан ['country'] 0.08776307901913574\n",
      "\n",
      "{'intent': 21, 'generative': 7, 'fails': 12}\n",
      "обезбанен ['hello'] 0.174130692069454\n",
      "\n",
      "{'intent': 22, 'generative': 7, 'fails': 12}\n",
      "банан ['hello'] 0.174130692069454\n",
      "\n",
      "{'intent': 23, 'generative': 7, 'fails': 12}\n",
      "инферно ['hello'] 0.174130692069454\n",
      "\n",
      "{'intent': 24, 'generative': 7, 'fails': 12}\n",
      "мираж ['hello'] 0.174130692069454\n",
      "\n",
      "{'intent': 25, 'generative': 7, 'fails': 12}\n",
      "даст 2 ['hello'] 0.174130692069454\n",
      "\n",
      "{'intent': 26, 'generative': 7, 'fails': 12}\n",
      "го мм ['country'] 0.09662825901592761\n",
      "\n",
      "{'intent': 26, 'generative': 7, 'fails': 13}\n"
     ]
    }
   ],
   "source": [
    "main()"
   ]
  },
  {
   "cell_type": "code",
   "execution_count": null,
   "metadata": {},
   "outputs": [],
   "source": []
  }
 ],
 "metadata": {
  "kernelspec": {
   "display_name": "Python 3",
   "language": "python",
   "name": "python3"
  },
  "language_info": {
   "codemirror_mode": {
    "name": "ipython",
    "version": 3
   },
   "file_extension": ".py",
   "mimetype": "text/x-python",
   "name": "python",
   "nbconvert_exporter": "python",
   "pygments_lexer": "ipython3",
   "version": "3.7.9"
  }
 },
 "nbformat": 4,
 "nbformat_minor": 4
}
