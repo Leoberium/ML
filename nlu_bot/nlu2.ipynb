{
 "cells": [
  {
   "cell_type": "code",
   "execution_count": 21,
   "metadata": {},
   "outputs": [],
   "source": [
    "from sklearn.linear_model import LogisticRegression\n",
    "from sklearn.feature_extraction.text import CountVectorizer\n",
    "from sklearn.model_selection import train_test_split\n",
    "from bot_config import BOT_CONFIG"
   ]
  },
  {
   "cell_type": "markdown",
   "metadata": {},
   "source": [
    "### Подготовка датасета"
   ]
  },
  {
   "cell_type": "code",
   "execution_count": 2,
   "metadata": {},
   "outputs": [],
   "source": [
    "dataset = []\n",
    "\n",
    "for intent, intent_data in BOT_CONFIG[\"intents\"].items():\n",
    "    for example in intent_data[\"examples\"]:\n",
    "        dataset.append((example, intent))"
   ]
  },
  {
   "cell_type": "code",
   "execution_count": 3,
   "metadata": {},
   "outputs": [
    {
     "data": {
      "text/plain": [
       "828"
      ]
     },
     "execution_count": 3,
     "metadata": {},
     "output_type": "execute_result"
    }
   ],
   "source": [
    "len(dataset)"
   ]
  },
  {
   "cell_type": "code",
   "execution_count": 4,
   "metadata": {},
   "outputs": [
    {
     "data": {
      "text/plain": [
       "[('здарова', 'hello'),\n",
       " ('алоха', 'hello'),\n",
       " ('Hello', 'hello'),\n",
       " ('Whats up', 'hello'),\n",
       " ('приветствую', 'hello'),\n",
       " ('Здравствуйсте', 'hello'),\n",
       " ('ку', 'hello'),\n",
       " ('Приффет! Как делиффки?', 'hello'),\n",
       " ('Вечер в хату', 'hello'),\n",
       " ('hello', 'hello')]"
      ]
     },
     "execution_count": 4,
     "metadata": {},
     "output_type": "execute_result"
    }
   ],
   "source": [
    "dataset[:10]"
   ]
  },
  {
   "cell_type": "code",
   "execution_count": 5,
   "metadata": {},
   "outputs": [],
   "source": [
    "corpus = [text for text, intent in dataset]\n",
    "y = [intent for text, intent in dataset]"
   ]
  },
  {
   "cell_type": "code",
   "execution_count": 6,
   "metadata": {},
   "outputs": [
    {
     "data": {
      "text/plain": [
       "['здарова', 'алоха', 'Hello', 'Whats up', 'приветствую']"
      ]
     },
     "execution_count": 6,
     "metadata": {},
     "output_type": "execute_result"
    }
   ],
   "source": [
    "corpus[:5]"
   ]
  },
  {
   "cell_type": "code",
   "execution_count": 7,
   "metadata": {},
   "outputs": [
    {
     "data": {
      "text/plain": [
       "['hello', 'hello', 'hello', 'hello', 'hello']"
      ]
     },
     "execution_count": 7,
     "metadata": {},
     "output_type": "execute_result"
    }
   ],
   "source": [
    "y[:5]"
   ]
  },
  {
   "cell_type": "markdown",
   "metadata": {},
   "source": [
    "### Векторизация"
   ]
  },
  {
   "cell_type": "code",
   "execution_count": 58,
   "metadata": {},
   "outputs": [],
   "source": [
    "vectorizer = CountVectorizer(analyzer=\"char\", ngram_range=(3, 3))\n",
    "X = vectorizer.fit_transform(corpus)"
   ]
  },
  {
   "cell_type": "code",
   "execution_count": 9,
   "metadata": {},
   "outputs": [
    {
     "name": "stdout",
     "output_type": "stream",
     "text": [
      "[[0 0 0 ... 0 0 0]\n",
      " [0 0 0 ... 0 0 0]\n",
      " [0 0 0 ... 0 0 0]\n",
      " ...\n",
      " [0 0 0 ... 0 0 0]\n",
      " [0 0 0 ... 0 0 0]\n",
      " [0 0 0 ... 0 0 0]]\n"
     ]
    }
   ],
   "source": [
    "# print(vectorizer.get_feature_names())\n",
    "print(X.toarray())"
   ]
  },
  {
   "cell_type": "markdown",
   "metadata": {},
   "source": [
    "### Классификация"
   ]
  },
  {
   "cell_type": "code",
   "execution_count": 10,
   "metadata": {},
   "outputs": [
    {
     "data": {
      "text/plain": [
       "LogisticRegression()"
      ]
     },
     "execution_count": 10,
     "metadata": {},
     "output_type": "execute_result"
    }
   ],
   "source": [
    "clf = LogisticRegression()\n",
    "clf.fit(X, y)"
   ]
  },
  {
   "cell_type": "code",
   "execution_count": 12,
   "metadata": {},
   "outputs": [
    {
     "data": {
      "text/plain": [
       "array(['hello', 'hello'], dtype='<U22')"
      ]
     },
     "execution_count": 12,
     "metadata": {},
     "output_type": "execute_result"
    }
   ],
   "source": [
    "clf.predict(vectorizer.transform([\"привет\", \"эй робот привет\"]))"
   ]
  },
  {
   "cell_type": "code",
   "execution_count": 13,
   "metadata": {},
   "outputs": [
    {
     "data": {
      "text/plain": [
       "array(['music'], dtype='<U22')"
      ]
     },
     "execution_count": 13,
     "metadata": {},
     "output_type": "execute_result"
    }
   ],
   "source": [
    "clf.predict(vectorizer.transform([\"что любишь слушать\"]))"
   ]
  },
  {
   "cell_type": "code",
   "execution_count": 15,
   "metadata": {},
   "outputs": [
    {
     "data": {
      "text/plain": [
       "array([[0.00374701, 0.00295317, 0.00364921, 0.00194462, 0.00317425,\n",
       "        0.00233095, 0.00206893, 0.00214798, 0.00256883, 0.00555842,\n",
       "        0.00346639, 0.00339746, 0.0029189 , 0.00441856, 0.00432891,\n",
       "        0.00301087, 0.00289834, 0.00306224, 0.00280115, 0.00843672,\n",
       "        0.00362272, 0.0087851 , 0.00220135, 0.03186449, 0.00351273,\n",
       "        0.00229284, 0.00193523, 0.00231038, 0.00301457, 0.00504284,\n",
       "        0.00247331, 0.00356893, 0.01006714, 0.0037534 , 0.00308512,\n",
       "        0.00215778, 0.00354099, 0.00510278, 0.00644229, 0.00320919,\n",
       "        0.00688516, 0.00258782, 0.00340923, 0.00377194, 0.00376216,\n",
       "        0.00288194, 0.0046402 , 0.00268251, 0.00341314, 0.00340703,\n",
       "        0.00765594, 0.00218341, 0.20301062, 0.00314634, 0.00488725,\n",
       "        0.0059772 , 0.00284491, 0.00284717, 0.00331043, 0.00282219,\n",
       "        0.00328953, 0.0033707 , 0.00310014, 0.00206878, 0.00246348,\n",
       "        0.00243831, 0.00684916, 0.00203481, 0.00650694, 0.00358713,\n",
       "        0.00343923, 0.00892618, 0.00247284, 0.00631661, 0.00174213,\n",
       "        0.00392508, 0.00206062, 0.00324404, 0.0026624 , 0.00332961,\n",
       "        0.00624683, 0.00336985, 0.00556334, 0.00349906, 0.01791335,\n",
       "        0.00604605, 0.00721749, 0.004052  , 0.00377194, 0.0046162 ,\n",
       "        0.0034663 , 0.00205177, 0.00258233, 0.00327652, 0.00215578,\n",
       "        0.00236422, 0.00234   , 0.00316544, 0.00360332, 0.00383323,\n",
       "        0.00246953, 0.00360054, 0.00488016, 0.00222318, 0.00594424,\n",
       "        0.00434399, 0.0200636 , 0.00264173, 0.00288662, 0.00638474,\n",
       "        0.00114467, 0.00383323, 0.00096459, 0.00265341, 0.00331345,\n",
       "        0.00337073, 0.00378664, 0.00443587, 0.0049312 , 0.00323505,\n",
       "        0.00376216, 0.00306005, 0.00205284, 0.01272979, 0.00317621,\n",
       "        0.00442707, 0.01281919, 0.00197284, 0.00229293, 0.01515231,\n",
       "        0.00412457, 0.00269258, 0.00342735, 0.00510278, 0.00098442,\n",
       "        0.00104625, 0.00374402, 0.00374402, 0.00374402, 0.00374402,\n",
       "        0.00721024, 0.01279081, 0.01778996, 0.01592434, 0.00245034,\n",
       "        0.00198822, 0.00243413, 0.00206101, 0.0096954 , 0.00931485,\n",
       "        0.01116693, 0.00169624, 0.0039441 , 0.00284163, 0.00341451,\n",
       "        0.00188121, 0.00260275, 0.00273059, 0.00236623, 0.00783132,\n",
       "        0.0023422 , 0.00273064, 0.00273222, 0.00645948, 0.00778837,\n",
       "        0.00215824, 0.00255232, 0.00362755, 0.00376335, 0.00612293,\n",
       "        0.00375142, 0.003356  , 0.00211891, 0.01998246, 0.00118235,\n",
       "        0.00246304, 0.00249233, 0.00337934]])"
      ]
     },
     "execution_count": 15,
     "metadata": {},
     "output_type": "execute_result"
    }
   ],
   "source": [
    "clf.predict_proba(vectorizer.transform([\"эй робот привет\"]))"
   ]
  },
  {
   "cell_type": "markdown",
   "metadata": {},
   "source": [
    "### Валидация "
   ]
  },
  {
   "cell_type": "code",
   "execution_count": 48,
   "metadata": {},
   "outputs": [],
   "source": [
    "X_train, X_test, y_train, y_test = train_test_split(\n",
    "    X, y, test_size=0.15\n",
    ")"
   ]
  },
  {
   "cell_type": "code",
   "execution_count": 49,
   "metadata": {},
   "outputs": [],
   "source": [
    "clf = LogisticRegression()"
   ]
  },
  {
   "cell_type": "code",
   "execution_count": 50,
   "metadata": {},
   "outputs": [
    {
     "data": {
      "text/plain": [
       "LogisticRegression()"
      ]
     },
     "execution_count": 50,
     "metadata": {},
     "output_type": "execute_result"
    }
   ],
   "source": [
    "clf.fit(X_train, y_train)"
   ]
  },
  {
   "cell_type": "code",
   "execution_count": 51,
   "metadata": {},
   "outputs": [
    {
     "data": {
      "text/plain": [
       "0.16"
      ]
     },
     "execution_count": 51,
     "metadata": {},
     "output_type": "execute_result"
    }
   ],
   "source": [
    "clf.score(X_test, y_test)"
   ]
  },
  {
   "cell_type": "code",
   "execution_count": null,
   "metadata": {},
   "outputs": [],
   "source": []
  },
  {
   "cell_type": "code",
   "execution_count": 59,
   "metadata": {},
   "outputs": [
    {
     "name": "stdout",
     "output_type": "stream",
     "text": [
      "[0.24096385542168675, 0.27710843373493976, 0.25903614457831325, 0.23493975903614459, 0.23493975903614459, 0.25301204819277107, 0.29518072289156627, 0.28313253012048195, 0.2710843373493976, 0.26506024096385544]\n",
      "0.26144578313253014\n"
     ]
    }
   ],
   "source": [
    "scores = []\n",
    "\n",
    "for i in range(10):\n",
    "    X_train, X_test, y_train, y_test = train_test_split(X, y, test_size=0.2)\n",
    "#     clf = LogisticRegression()\n",
    "    clf = LinearSVC()\n",
    "    clf.fit(X_train, y_train)\n",
    "    \n",
    "    scores.append(clf.score(X_test, y_test))\n",
    "    \n",
    "print(scores)\n",
    "print(sum(scores) / len(scores))"
   ]
  },
  {
   "cell_type": "code",
   "execution_count": 53,
   "metadata": {},
   "outputs": [],
   "source": [
    "from sklearn.feature_extraction.text import TfidfVectorizer\n",
    "from sklearn.svm import LinearSVC"
   ]
  },
  {
   "cell_type": "code",
   "execution_count": 54,
   "metadata": {},
   "outputs": [],
   "source": [
    "vectorizer = TfidfVectorizer()"
   ]
  },
  {
   "cell_type": "code",
   "execution_count": 55,
   "metadata": {},
   "outputs": [],
   "source": [
    "X = vectorizer.fit_transform(corpus)"
   ]
  },
  {
   "cell_type": "code",
   "execution_count": 62,
   "metadata": {},
   "outputs": [
    {
     "data": {
      "text/plain": [
       "0.8864734299516909"
      ]
     },
     "execution_count": 62,
     "metadata": {},
     "output_type": "execute_result"
    }
   ],
   "source": [
    "clf = LinearSVC(\n",
    ")\n",
    "clf.fit(X, y)\n",
    "clf.score(X, y)"
   ]
  },
  {
   "cell_type": "code",
   "execution_count": null,
   "metadata": {},
   "outputs": [],
   "source": []
  }
 ],
 "metadata": {
  "kernelspec": {
   "display_name": "Python 3",
   "language": "python",
   "name": "python3"
  },
  "language_info": {
   "codemirror_mode": {
    "name": "ipython",
    "version": 3
   },
   "file_extension": ".py",
   "mimetype": "text/x-python",
   "name": "python",
   "nbconvert_exporter": "python",
   "pygments_lexer": "ipython3",
   "version": "3.7.9"
  }
 },
 "nbformat": 4,
 "nbformat_minor": 4
}
