{
 "cells": [
  {
   "cell_type": "code",
   "execution_count": 16,
   "metadata": {},
   "outputs": [],
   "source": [
    "import random\n",
    "import nltk\n",
    "from bot_config import BOT_CONFIG"
   ]
  },
  {
   "cell_type": "code",
   "execution_count": 2,
   "metadata": {
    "jupyter": {
     "source_hidden": true
    }
   },
   "outputs": [],
   "source": [
    "# BOT_CONFIG = {\n",
    "#     \"intents\": {\n",
    "#         \"hello\": {\n",
    "#             \"examples\": [\"Привет\", \"Добрый день\", \"Здравствуйте\"],\n",
    "#             \"responses\": [\"Привет, юзер!\", \"Здравствуй, человек!\"]\n",
    "#         },\n",
    "#         \"bye\": {\n",
    "#             \"examples\": [\"Пока\", \"Прощайте\", \"До свидания\"],\n",
    "#             \"responses\": [\"До встречи\", \"Если что, я тут :)\"]\n",
    "#         },\n",
    "#         \"vacation\": {\n",
    "#             \"examples\": [\"Хочу путевку\", \"Хочу отдохнуть\", \"Требую отпуск\"],\n",
    "#             \"responses\": [\"Назовите страну, в которую вы хотели бы поехать\", \"Где вы хотетие отдохнуть?\"]\n",
    "#         },\n",
    "#         \"country\": {\n",
    "#             \"examples\": [\"Россия\", \"Египет\", \"Турция\"],\n",
    "#             \"responses\": [\"Когда вы бы хотели отдохнуть?\"]\n",
    "#         },\n",
    "#         \"car_insurance\": {\n",
    "#             \"examples\": [\"Хочу застраховать машину\", \"Как застраховать машину?\"],\n",
    "#             \"responses\": [\"В какой компании вы хотите застраховать свой автомобиль?\"]\n",
    "#         },\n",
    "#         \"dinner\": {\n",
    "#             \"examples\": [\"Где можно пообедать?\", \"Хочу кушать\"],\n",
    "#             \"responses\": [\"Могу предложить вам ближайший ресторан или доставку из него\"]\n",
    "#         },\n",
    "#         \"hotel\": {\n",
    "#             \"examples\": [\"Нужно забронировать отель\", \"Где нам остановиться во время отдыха?\"],\n",
    "#             \"responses\": [\"Какой категории номер вы хотите забронировать?\"]\n",
    "#         }\n",
    "#     },\n",
    "#     \"failure_phrases\": [\n",
    "#         \"Непонятно, перефразируйте пожалуйста\",\n",
    "#         \"Извини, но я всего лишь бот :(\"\n",
    "#     ]\n",
    "# }"
   ]
  },
  {
   "cell_type": "code",
   "execution_count": 27,
   "metadata": {},
   "outputs": [
    {
     "name": "stdout",
     "output_type": "stream",
     "text": [
      "result:  hello\n"
     ]
    }
   ],
   "source": [
    "def clear_query(text):\n",
    "    alphabet = \"абвгдеёжзийклмнопрстуфхцчшщъыьэюя0123456789- \"\n",
    "    result = ''\n",
    "    for c in text.lower():\n",
    "        if c in alphabet:\n",
    "            result += c\n",
    "    return result\n",
    "\n",
    "def get_intent(text):\n",
    "    text = clear_query(text)\n",
    "    if not text:\n",
    "        return\n",
    "    \n",
    "    for intent, intent_data in BOT_CONFIG[\"intents\"].items():\n",
    "\n",
    "        for example in intent_data[\"examples\"]:\n",
    "            \n",
    "            example = clear_query(example)\n",
    "\n",
    "            dist = nltk.edit_distance(text, example)\n",
    "            if example and dist / len(example) < 0.4:\n",
    "                return intent\n",
    "\n",
    "print(\"result: \", get_intent(\"Привет\"))"
   ]
  },
  {
   "cell_type": "code",
   "execution_count": 28,
   "metadata": {},
   "outputs": [],
   "source": [
    "def get_response_by_intent(intent):\n",
    "    return random.choice(BOT_CONFIG[\"intents\"][intent][\"responses\"])    "
   ]
  },
  {
   "cell_type": "code",
   "execution_count": 29,
   "metadata": {},
   "outputs": [],
   "source": [
    "def get_reponse_generatively(request):\n",
    "    pass"
   ]
  },
  {
   "cell_type": "code",
   "execution_count": 30,
   "metadata": {},
   "outputs": [],
   "source": [
    "def get_failure_phrase():\n",
    "    return random.choice(BOT_CONFIG[\"failure_phrases\"])"
   ]
  },
  {
   "cell_type": "code",
   "execution_count": 31,
   "metadata": {},
   "outputs": [],
   "source": [
    "def bot(request: str):\n",
    "    # NLU\n",
    "    intent = get_intent(request)\n",
    "    \n",
    "    # Generate answer\n",
    "    if intent:\n",
    "        return get_response_by_intent(intent)\n",
    "    \n",
    "    response = get_response_generatively(request)\n",
    "    if response:\n",
    "        return response\n",
    "        \n",
    "    return get_failure_phrase()"
   ]
  },
  {
   "cell_type": "code",
   "execution_count": 35,
   "metadata": {},
   "outputs": [
    {
     "data": {
      "text/plain": [
       "'Могу распознать ваши вопросы и с небольшой долей вероятности попасть в точку)'"
      ]
     },
     "execution_count": 35,
     "metadata": {},
     "output_type": "execute_result"
    }
   ],
   "source": [
    "bot(\"что слушаешь\")"
   ]
  },
  {
   "cell_type": "code",
   "execution_count": null,
   "metadata": {},
   "outputs": [],
   "source": []
  },
  {
   "cell_type": "code",
   "execution_count": null,
   "metadata": {},
   "outputs": [],
   "source": []
  },
  {
   "cell_type": "code",
   "execution_count": null,
   "metadata": {},
   "outputs": [],
   "source": []
  },
  {
   "cell_type": "code",
   "execution_count": null,
   "metadata": {},
   "outputs": [],
   "source": []
  },
  {
   "cell_type": "code",
   "execution_count": null,
   "metadata": {},
   "outputs": [],
   "source": []
  },
  {
   "cell_type": "code",
   "execution_count": 9,
   "metadata": {},
   "outputs": [],
   "source": [
    "import numpy as np"
   ]
  },
  {
   "cell_type": "code",
   "execution_count": 10,
   "metadata": {},
   "outputs": [],
   "source": [
    "LENGTH = 10**8"
   ]
  },
  {
   "cell_type": "code",
   "execution_count": 11,
   "metadata": {},
   "outputs": [],
   "source": [
    "na = np.zeros(shape=(LENGTH, ), dtype=int)"
   ]
  },
  {
   "cell_type": "code",
   "execution_count": 12,
   "metadata": {},
   "outputs": [],
   "source": [
    "la = [0] * LENGTH"
   ]
  },
  {
   "cell_type": "code",
   "execution_count": 13,
   "metadata": {},
   "outputs": [],
   "source": [
    "borders = []\n",
    "for _ in range(10**5):\n",
    "    left = np.random.randint(low=0, high=LENGTH)\n",
    "    right = np.random.randint(low=left+1, high=left+100)\n",
    "    borders.append((left, right))"
   ]
  },
  {
   "cell_type": "code",
   "execution_count": 14,
   "metadata": {},
   "outputs": [
    {
     "name": "stdout",
     "output_type": "stream",
     "text": [
      "142 ms ± 801 µs per loop (mean ± std. dev. of 7 runs, 1 loop each)\n"
     ]
    }
   ],
   "source": [
    "%%timeit\n",
    "for left, right in borders:\n",
    "    na[left:right] += 1"
   ]
  },
  {
   "cell_type": "code",
   "execution_count": 15,
   "metadata": {},
   "outputs": [
    {
     "name": "stdout",
     "output_type": "stream",
     "text": [
      "263 ms ± 151 µs per loop (mean ± std. dev. of 7 runs, 1 loop each)\n"
     ]
    }
   ],
   "source": [
    "%%timeit\n",
    "for left, right in borders:\n",
    "    for i in range(left, right):\n",
    "        la[i] += 1"
   ]
  },
  {
   "cell_type": "code",
   "execution_count": null,
   "metadata": {},
   "outputs": [],
   "source": []
  }
 ],
 "metadata": {
  "kernelspec": {
   "display_name": "Python 3",
   "language": "python",
   "name": "python3"
  },
  "language_info": {
   "codemirror_mode": {
    "name": "ipython",
    "version": 3
   },
   "file_extension": ".py",
   "mimetype": "text/x-python",
   "name": "python",
   "nbconvert_exporter": "python",
   "pygments_lexer": "ipython3",
   "version": "3.7.9"
  }
 },
 "nbformat": 4,
 "nbformat_minor": 4
}
