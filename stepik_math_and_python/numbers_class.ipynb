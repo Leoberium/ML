{
 "cells": [
  {
   "cell_type": "code",
   "execution_count": null,
   "metadata": {},
   "outputs": [],
   "source": [
    "def numerics(n):\n",
    "    return list(map(int, list(str(n))))\n",
    "\n",
    "n = 549945\n",
    "numerics(n)"
   ]
  },
  {
   "cell_type": "code",
   "execution_count": null,
   "metadata": {
    "scrolled": true
   },
   "outputs": [],
   "source": [
    "def kaprekar_step(L):\n",
    "    up = int(''.join(map(str, sorted(L))))\n",
    "    down = int(''.join(map(str, sorted(L, reverse=True))))\n",
    "    return down - up\n",
    "\n",
    "L = [5, 4, 9, 9, 4, 5]\n",
    "kaprekar_step(L)"
   ]
  },
  {
   "cell_type": "code",
   "execution_count": null,
   "metadata": {},
   "outputs": [],
   "source": [
    "def kaprekar_check(n):\n",
    "    digits = numerics(n)\n",
    "    if len(set(digits)) == 1:\n",
    "        return False\n",
    "    if n in (100, 1000, 100000):\n",
    "        return False\n",
    "    if len(digits) in (3, 4, 6):\n",
    "        return True\n",
    "    else:\n",
    "        return False\n",
    "\n",
    "n = 100000\n",
    "kaprekar_check(n)"
   ]
  },
  {
   "cell_type": "code",
   "execution_count": null,
   "metadata": {},
   "outputs": [],
   "source": [
    "def kaprekar_loop(n):\n",
    "    if not kaprekar_check(n):\n",
    "        print('Ошибка! На вход подано число {}, не удовлетворяющее условиям процесса Капрекара'.format(n))\n",
    "        return\n",
    "    acc = set()\n",
    "    while n not in acc:\n",
    "        print(n)\n",
    "        acc.add(n)\n",
    "        if n in (495, 6174, 549945, 631764):\n",
    "            return\n",
    "        n = kaprekar_step(numerics(n))\n",
    "    print('Следующее число - {}, кажется процесс зациклился...'.format(n))\n",
    "    return\n",
    "\n",
    "n = 1234\n",
    "kaprekar_loop(n)"
   ]
  },
  {
   "cell_type": "code",
   "execution_count": null,
   "metadata": {},
   "outputs": [],
   "source": [
    "def luka(L0, L1, n):\n",
    "    if n == 0:\n",
    "        return L0\n",
    "    i = 0\n",
    "    while i < n - 1:\n",
    "        L0, L1 = L1, L0 + L1\n",
    "        i += 1\n",
    "    return L1\n",
    "\n",
    "L0, L1 = 12345, 67890\n",
    "luka(L0, L1, 5)"
   ]
  },
  {
   "cell_type": "code",
   "execution_count": null,
   "metadata": {},
   "outputs": [],
   "source": [
    "from decimal import *\n",
    "getcontext().prec = 50\n",
    "\n",
    "def fi(L0, L1, n):\n",
    "    a, b = Decimal(L0), Decimal(L1)\n",
    "    while n > 1:\n",
    "        n -= 1\n",
    "        a, b = b, a + b\n",
    "    return b / a\n",
    "    \n",
    "fi(0, 1, 10)"
   ]
  },
  {
   "cell_type": "code",
   "execution_count": 7,
   "metadata": {},
   "outputs": [],
   "source": [
    "def super_L(n):\n",
    "    if n % 2 == 0:\n",
    "        return super_L(n // 2) ** 2 - 2 * (-1) ** (n // 2)\n",
    "    if n % 3 == 0:\n",
    "        return super_L(n // 3) ** 3 - 3 * (-1) ** (n // 3) * super_L(n // 3)\n",
    "    if n % 5 == 0:\n",
    "        return super_L(n // 5) ** 5 - 5 *  (-1) ** (n // 5) * super_L(n // 5) ** 3 + 5 * super_L(n // 5)\n",
    "    a, b = 2, 1\n",
    "    while n > 0:\n",
    "        n -= 1\n",
    "        a, b = b, a + b\n",
    "    return a"
   ]
  },
  {
   "cell_type": "code",
   "execution_count": 8,
   "metadata": {},
   "outputs": [
    {
     "data": {
      "text/plain": [
       "'101010'"
      ]
     },
     "execution_count": 8,
     "metadata": {},
     "output_type": "execute_result"
    }
   ],
   "source": [
    "def convert(num, to_base=10, from_base=10):\n",
    "    n = int(str(num), base=from_base)\n",
    "    c = ''\n",
    "    alphabet = '0123456789ABCDEFGHIJKLMNOPQRSTUVWXYZ'\n",
    "    while n:\n",
    "        c = alphabet[n % to_base] + c\n",
    "        n //= to_base\n",
    "    return c\n",
    "\n",
    "convert('2A', to_base=2, from_base=16)"
   ]
  },
  {
   "cell_type": "code",
   "execution_count": 9,
   "metadata": {},
   "outputs": [
    {
     "data": {
      "text/plain": [
       "True"
      ]
     },
     "execution_count": 9,
     "metadata": {},
     "output_type": "execute_result"
    }
   ],
   "source": [
    "def kaprekar(n, base=10):\n",
    "    n = int(str(n), base=base)\n",
    "    s = str(n ** 2)\n",
    "    s = convert(s, to_base=base, from_base=10)\n",
    "    for i in range(1, len(s)):\n",
    "        prefix, suffix = int(s[:i], base=base), int(s[i:], base=base)\n",
    "        if prefix + suffix == n and suffix > 0:\n",
    "            return True\n",
    "    return False\n",
    "\n",
    "kaprekar('5B', 16)"
   ]
  },
  {
   "cell_type": "code",
   "execution_count": 10,
   "metadata": {
    "scrolled": true
   },
   "outputs": [
    {
     "data": {
      "text/plain": [
       "9312"
      ]
     },
     "execution_count": 10,
     "metadata": {},
     "output_type": "execute_result"
    }
   ],
   "source": [
    "def simple_multiplication(x, y):\n",
    "    return 100 * (100 - (100 - x) - (100 - y)) + (100 - x) * (100 - y)\n",
    "\n",
    "simple_multiplication(96, 97)"
   ]
  },
  {
   "cell_type": "code",
   "execution_count": 11,
   "metadata": {},
   "outputs": [
    {
     "data": {
      "text/plain": [
       "True"
      ]
     },
     "execution_count": 11,
     "metadata": {},
     "output_type": "execute_result"
    }
   ],
   "source": [
    "def multiplication_check(x, y):\n",
    "    return 100 * (100 - (100 - x) - (100 - y)) + (100 - x) * (100 - y) == x * y\n",
    "\n",
    "multiplication_check(96, 97)"
   ]
  },
  {
   "cell_type": "code",
   "execution_count": 12,
   "metadata": {},
   "outputs": [
    {
     "name": "stdout",
     "output_type": "stream",
     "text": [
      "Правильных результатов: 4\n",
      "Неправильных результатов: 0\n"
     ]
    }
   ],
   "source": [
    "def multiplication_check_list(start=10, stop=99):\n",
    "    n, m = 0, 0\n",
    "    for i in range(start, stop + 1):\n",
    "        for j in range(start, stop + 1):\n",
    "            if multiplication_check(i, j):\n",
    "                n += 1\n",
    "            else:\n",
    "                m += 1\n",
    "    print('Правильных результатов: {}'.format(n))\n",
    "    print('Неправильных результатов: {}'.format(m))\n",
    "\n",
    "multiplication_check_list(start=96, stop=97)"
   ]
  },
  {
   "cell_type": "code",
   "execution_count": 13,
   "metadata": {},
   "outputs": [
    {
     "data": {
      "text/plain": [
       "9801"
      ]
     },
     "execution_count": 13,
     "metadata": {},
     "output_type": "execute_result"
    }
   ],
   "source": [
    "def wisdom_multiplication(x, y, length_check=True):\n",
    "    step3 = str(100 - (100 - x) - (100 - y))\n",
    "    step4 = str((100 - x) * (100 - y))\n",
    "    if length_check and len(step4) == 1:\n",
    "        step4 = '0' + step4\n",
    "    return int(step3 + step4)\n",
    "\n",
    "wisdom_multiplication(99, 99)"
   ]
  },
  {
   "cell_type": "code",
   "execution_count": 14,
   "metadata": {},
   "outputs": [
    {
     "name": "stdout",
     "output_type": "stream",
     "text": [
      "Правильных результатов: 513\n",
      "Неправильных результатов: 7587\n"
     ]
    }
   ],
   "source": [
    "def multiplication_check(x, y, length_check):\n",
    "    return wisdom_multiplication(x, y, length_check=length_check) == x * y\n",
    "\n",
    "def multiplication_check_list(start=10, stop=99, length_check=True):\n",
    "    n, m = 0, 0\n",
    "    for i in range(start, stop + 1):\n",
    "        for j in range(start, stop + 1):\n",
    "            if multiplication_check(i, j, length_check):\n",
    "                n += 1\n",
    "            else:\n",
    "                m += 1\n",
    "    print('Правильных результатов: {}'.format(n))\n",
    "    print('Неправильных результатов: {}'.format(m))\n",
    "    \n",
    "multiplication_check_list(length_check=False)"
   ]
  },
  {
   "cell_type": "markdown",
   "metadata": {},
   "source": [
    "### Caesar cipher"
   ]
  },
  {
   "cell_type": "code",
   "execution_count": 15,
   "metadata": {},
   "outputs": [],
   "source": [
    "def caesar(text, key):\n",
    "    return ''.join(chr(65 + (-65 + ord(ch) + key) % 26) \n",
    "                   for ch in text.upper() if ch.isalpha())"
   ]
  },
  {
   "cell_type": "code",
   "execution_count": 16,
   "metadata": {},
   "outputs": [],
   "source": [
    "def caesar(text, key, alphabet='ABCDEFGHIJKLMNOPQRSTUVWXYZ'):\n",
    "    a = dict(zip(alphabet, range(len(alphabet))))\n",
    "    b = {i: ch for ch, i in a.items()}\n",
    "    return ''.join(b[(a[ch] + key) % len(alphabet)]\n",
    "                   for ch in text.upper() if ch.isalnum())"
   ]
  },
  {
   "cell_type": "code",
   "execution_count": 17,
   "metadata": {},
   "outputs": [],
   "source": [
    "def bruteforce(text, alphabet='ABCDEFGHIJKLMNOPQRSTUVWXYZ'):\n",
    "    a = dict(zip(alphabet, range(len(alphabet))))\n",
    "    b = {i : ch for ch, i in a.items()}\n",
    "    indices = [a[ch] for ch in text]\n",
    "    for key in range(len(alphabet) - 1):\n",
    "        key += 1\n",
    "        print(''.join(b[(i-key) % len(alphabet)] for i in indices))\n",
    "    return 0"
   ]
  },
  {
   "cell_type": "code",
   "execution_count": 18,
   "metadata": {},
   "outputs": [
    {
     "name": "stdout",
     "output_type": "stream",
     "text": [
      "APPLE5\n",
      "9OOKD4\n",
      "8NNJC3\n",
      "7MMIB2\n",
      "6LLHA1\n",
      "5KKG90\n",
      "4JJF8Z\n",
      "3IIE7Y\n",
      "2HHD6X\n",
      "1GGC5W\n",
      "0FFB4V\n",
      "ZEEA3U\n",
      "YDD92T\n",
      "XCC81S\n",
      "WBB70R\n",
      "VAA6ZQ\n",
      "U995YP\n",
      "T884XO\n",
      "S773WN\n",
      "R662VM\n",
      "Q551UL\n",
      "P440TK\n",
      "O33ZSJ\n",
      "N22YRI\n",
      "M11XQH\n",
      "L00WPG\n",
      "KZZVOF\n",
      "JYYUNE\n",
      "IXXTMD\n",
      "HWWSLC\n",
      "GVVRKB\n",
      "FUUQJA\n",
      "ETTPI9\n",
      "DSSOH8\n",
      "CRRNG7\n"
     ]
    },
    {
     "data": {
      "text/plain": [
       "0"
      ]
     },
     "execution_count": 18,
     "metadata": {},
     "output_type": "execute_result"
    }
   ],
   "source": [
    "bruteforce('BQQMF6', alphabet='ABCDEFGHIJKLMNOPQRSTUVWXYZ0123456789')"
   ]
  },
  {
   "cell_type": "markdown",
   "metadata": {},
   "source": [
    "### Vigenère cipher"
   ]
  },
  {
   "cell_type": "code",
   "execution_count": 19,
   "metadata": {},
   "outputs": [],
   "source": [
    "def jarriquez_encryption(text, key, alphabet='ABCDEFGHIJKLMNOPQRSTUVWXYZ', reverse=False):\n",
    "    n = len(alphabet)\n",
    "    to_number = {ch: i for i, ch in enumerate(alphabet)}\n",
    "    key = str(key)\n",
    "    s = ''\n",
    "    pos = 0\n",
    "    for ch in text.upper():\n",
    "        if not ch.isalnum():\n",
    "            continue\n",
    "        s += alphabet[(n + to_number[ch] + (-1)**reverse * int(key[pos])) % n]\n",
    "        pos = (pos + 1) % len(key)\n",
    "    return s"
   ]
  },
  {
   "cell_type": "code",
   "execution_count": 20,
   "metadata": {},
   "outputs": [
    {
     "name": "stdout",
     "output_type": "stream",
     "text": [
      "ЧУЦИЮЛКВУФКНЙУГУТССКЩДФИПЮРЯЛЦР\n",
      "УСУДЬИЖАРРИКЕСАПРОНИЦАТЕЛЬНЫЙУМ\n",
      "UUNEFWKXKVUEECMDVLPRUQQYCYTIHWUKPZ\n",
      "UUNEFWKXKVUEECMDVLPRUQQYCYTIHWUKPZ\n",
      "SOMEENCRIPTEDTEXTFORTHISASSIGNMENT\n"
     ]
    }
   ],
   "source": [
    "print(jarriquez_encryption(\n",
    "    text='У СУДЬИ ЖАРРИКЕСА ПРОНИЦАТЕЛЬНЫЙ УМ',\n",
    "    key=423,\n",
    "    alphabet='АБВГДЕЖЗИЙКЛМНОПРСТУФХЦЧШЩЪЫЬЭЮЯ'\n",
    "))\n",
    "print(jarriquez_encryption(\n",
    "    text='ЧУЦИЮЛКВУФКНЙУГУТССКЩДФИПЮРЯЛЦР',\n",
    "    key=423,\n",
    "    alphabet='АБВГДЕЖЗИЙКЛМНОПРСТУФХЦЧШЩЪЫЬЭЮЯ',\n",
    "    reverse=True\n",
    "))\n",
    "print(jarriquez_encryption(\n",
    "    text='Some encripted text for this assignment',\n",
    "    key=26101986\n",
    "))\n",
    "print(jarriquez_encryption(\n",
    "    text='Some encripted text for this assignment',\n",
    "    key=26101986\n",
    "))\n",
    "print(jarriquez_encryption(\n",
    "    text='UUNEFWKXKVUEECMDVLPRUQQYCYTIHWUKPZ',\n",
    "    key=26101986,\n",
    "    reverse=True\n",
    "))"
   ]
  },
  {
   "cell_type": "code",
   "execution_count": 21,
   "metadata": {},
   "outputs": [],
   "source": [
    "def decryption(text, alphabet='АБВГДЕЖЗИЙКЛМНОПРСТУФХЦЧШЩЪЫЬЭЮЯ'):\n",
    "    n = len(alphabet)\n",
    "    text = ''.join(ch for ch in text if ch.isalpha())\n",
    "    to_number = {ch: i for i, ch in enumerate(alphabet)}\n",
    "    for key in range(999999):\n",
    "        skey = str(key)\n",
    "        for shift in range(len(skey)):\n",
    "            s = ''\n",
    "            pos = shift\n",
    "            for ch in 'ДАКОСТА':\n",
    "                s += alphabet[(to_number[ch] + int(skey[pos])) % n]\n",
    "                pos = (pos + 1) % len(skey)\n",
    "            index = text.find(s)\n",
    "            if index != -1:\n",
    "                sskey = skey[shift:] + skey[:shift]\n",
    "                offset = index % len(skey)\n",
    "                res = int(sskey[-offset:] + sskey[:-offset])\n",
    "                print(jarriquez_encryption(text=text, key=res, alphabet=alphabet, reverse=True))\n",
    "                return(res)"
   ]
  },
  {
   "cell_type": "code",
   "execution_count": 22,
   "metadata": {},
   "outputs": [
    {
     "name": "stdout",
     "output_type": "stream",
     "text": [
      "РЕАЛЬНЫЙОТВЕТСТВЕННЫЙЗАПРЕСТУПЛЕНИЕНААЛМАЗНОМПРИИСКЕИЗРОМАНАЖЮЛЯВЕРНАЖАНГАДАНЕБУДЕТНАЗВАНВЭТОЙШИФРОВКЕЯОСТАВЛЮЗДЕСЬИМЯЖОАМДАКОСТАЛИШЬСЕДИНСТВЕННОЙЦЕЛЬЮЧТОБЫВЫМОГЛИРАСШИФРОВАТЬМОПОСЛАНИЕТАКЖЕЯДЕЛАЮЕГОДОСТАТОЧНОБОЛЬШОЙДЛИНЫЧТОБЫДАЖЕПОСЛЕШИФРОВАНИЯМОЖНОБЫЛОВОССТАНОВИТЬИСХОДНЫХАЛФАВИТАВТОРДАННОГОЗАДАНИЯИВАШДРУГЗАДОЙНЫЙАЛЕКСЕЙ\n",
      "261086\n"
     ]
    }
   ],
   "source": [
    "print(decryption('''\n",
    "ТЛБЛДУЭППТКЛФЧУВНУПБКЗИХТЛТТЫХНЛОИНУВЖММИНПФНПШОКЧЛЕРНТФНАХЖИДМЯКЛТУБЖИУЕЖЕАХЛГЩЕЕ\n",
    "\n",
    "ЪУВНГАХИЯШПЙАОЦЦПВТЛБФТТИИНДИДНЧЮОНЯОФВТЕАТФУШБЛРЮЮЧЖДРУУШГЕХУРПЧЕУВАЭУОЙБДБНОЛСКЦБ\n",
    "\n",
    "САОЦЦПВИШЮТППЦЧНЖОИНШВРЗЕЗКЗСБЮНЙРКПСЪЖФФШНЦЗРСЭШЦПЖСЙНГЭФФВЫМЖИЛРОЩСЗЮЙФШФДЖО\n",
    "\n",
    "ИЗТРМООЙБНФГОЩЧФЖООКОФВЙСЭФЖУЬХИСЦЖГИЪЖДШПРМЖПУПГЦНВКБНРЕКИБШМЦХЙИАМФЛУЬЙИСЗРТЕС\n",
    "'''))"
   ]
  },
  {
   "cell_type": "markdown",
   "metadata": {},
   "source": [
    "### Jefferson disk"
   ]
  },
  {
   "cell_type": "code",
   "execution_count": 23,
   "metadata": {},
   "outputs": [],
   "source": [
    "import random\n",
    "\n",
    "def disc_generator(alphabet):\n",
    "    x = list(alphabet)\n",
    "    random.shuffle(x)\n",
    "    return ''.join(x)"
   ]
  },
  {
   "cell_type": "code",
   "execution_count": 24,
   "metadata": {},
   "outputs": [
    {
     "name": "stdout",
     "output_type": "stream",
     "text": [
      "QMJZTGFKPWLSBOXNCRYEVHIADU\n"
     ]
    }
   ],
   "source": [
    "random.seed(42)\n",
    "print(disc_generator('ABCDEFGHIJKLMNOPQRSTUVWXYZ'))"
   ]
  },
  {
   "cell_type": "code",
   "execution_count": 25,
   "metadata": {},
   "outputs": [],
   "source": [
    "def jefferson_encryption(text, discs, step, reverse=False):\n",
    "    n = len(discs)\n",
    "    m = len(discs[0])\n",
    "    to_number = [{ch: i for i, ch in enumerate(disc)} for disc in discs]\n",
    "    text = ''.join(ch for ch in text.upper() if ch.isalpha())\n",
    "    s = ''\n",
    "    for i in range(0, len(text), n):\n",
    "        block = text[i:i+n]\n",
    "        s += ''.join(discs[i][(to_number[i][ch] + (-1)**reverse * step) % m]\n",
    "                     for i, ch in enumerate(block))\n",
    "    return s"
   ]
  },
  {
   "cell_type": "code",
   "execution_count": 26,
   "metadata": {},
   "outputs": [],
   "source": [
    "clear_alphabet = 'ABCDEFGHIJKLMNOPQRSTUVWXYZ'\n",
    "n = 6"
   ]
  },
  {
   "cell_type": "code",
   "execution_count": 27,
   "metadata": {},
   "outputs": [
    {
     "data": {
      "text/plain": [
       "['QMJZTGFKPWLSBOXNCRYEVHIADU',\n",
       " 'CVMHTPQXZJLWORBDUGEYKNFAIS',\n",
       " 'AMPKIXVFQEWODNZYHBCGSLTUJR',\n",
       " 'NMPJZSBAQDILKEGOYHRFXTCUVW',\n",
       " 'JHANFBRXVQYTLDCIEOMPUZKWSG',\n",
       " 'ZHJLSWGXQBKAPYIORMCTNVFUED']"
      ]
     },
     "execution_count": 27,
     "metadata": {},
     "output_type": "execute_result"
    }
   ],
   "source": [
    "random.seed(42)\n",
    "discs = [disc_generator(clear_alphabet) for i in range(n)]\n",
    "discs"
   ]
  },
  {
   "cell_type": "code",
   "execution_count": 28,
   "metadata": {},
   "outputs": [],
   "source": [
    "text = 'Some encripted text'"
   ]
  },
  {
   "cell_type": "code",
   "execution_count": 29,
   "metadata": {},
   "outputs": [
    {
     "data": {
      "text/plain": [
       "'NUXHUEVGQBIJJZNVI'"
      ]
     },
     "execution_count": 29,
     "metadata": {},
     "output_type": "execute_result"
    }
   ],
   "source": [
    "jefferson_encryption(text=text, discs=discs, step=4, reverse=False)"
   ]
  },
  {
   "cell_type": "code",
   "execution_count": 30,
   "metadata": {},
   "outputs": [],
   "source": [
    "def kidds_encryption(text, reverse=False):\n",
    "    cypher = {'e': '8', 't': ';', 'h': '4', 'o': '‡',\n",
    "              's': ')', 'n': '*', 'a': '5', 'i': '6',\n",
    "              'r': '(', 'f': '1', 'd': '†', 'l': '0',\n",
    "              'm': '9', 'b': '2', 'y': ':', 'g': '3',\n",
    "              'u': '?', 'v': '¶', 'c': '-', 'p': '.'}\n",
    "    decypher = {s: ch for ch, s in cypher.items()}\n",
    "    text = ''.join(ch for ch in text.lower() if ch in (cypher, decypher)[reverse].keys())\n",
    "    return ''.join((cypher, decypher)[reverse][ch] for ch in text)"
   ]
  },
  {
   "cell_type": "code",
   "execution_count": 31,
   "metadata": {},
   "outputs": [],
   "source": [
    "text = kidds_encryption('ethosnairfdlmbyguvcp')"
   ]
  },
  {
   "cell_type": "code",
   "execution_count": 32,
   "metadata": {},
   "outputs": [
    {
     "data": {
      "text/plain": [
       "'ethosnairfdlmbyguvcp'"
      ]
     },
     "execution_count": 32,
     "metadata": {},
     "output_type": "execute_result"
    }
   ],
   "source": [
    "kidds_encryption(text=text, reverse=True)"
   ]
  },
  {
   "cell_type": "markdown",
   "metadata": {},
   "source": [
    "### Enigma"
   ]
  },
  {
   "cell_type": "code",
   "execution_count": 33,
   "metadata": {},
   "outputs": [],
   "source": [
    "forward = {\n",
    "        'A': 'AEAB', 'B': 'BKJD', 'C': 'CMDF', 'D': 'DFKH',\n",
    "        'E': 'ELSJ', 'F': 'FGIL', 'G': 'GDRC', 'H': 'HQUP',\n",
    "        'I': 'IVXR', 'J': 'JZBT', 'K': 'KNLX', 'L': 'LTHV',\n",
    "        'M': 'MOWZ', 'N': 'NWTN', 'O': 'OYMY', 'P': 'PHCE',\n",
    "        'Q': 'QXQI', 'R': 'RUGW', 'S': 'SSZG', 'T': 'TPNA', \n",
    "        'U': 'UAPK', 'V': 'VIYM', 'W': 'WBFU', 'X': 'XRVS',\n",
    "        'Y': 'YCOQ', 'Z': 'ZJEO'\n",
    "}\n",
    "backward = {ch: [''] * 4 for ch in forward}\n",
    "for in_symbol, transform in forward.items():\n",
    "    for rotor, out_symbol in enumerate(transform):\n",
    "        backward[out_symbol][rotor] = in_symbol\n",
    "backward = {ch: ''.join(transform) for ch, transform in backward.items()}\n",
    "\n",
    "def shifter(symbol, shift):\n",
    "    return chr(65 + (ord(symbol) - 65 + shift) % 26)    \n",
    "\n",
    "def rotor(symbol, n, shift=0, reverse=False):\n",
    "    symbol = shifter(symbol, shift)\n",
    "    symbol = (forward, backward)[reverse][symbol][n]\n",
    "    return shifter(symbol, -shift)"
   ]
  },
  {
   "cell_type": "code",
   "execution_count": 34,
   "metadata": {},
   "outputs": [
    {
     "data": {
      "text/plain": [
       "'EKMFLGDQVZNTOWYHXUSPAIBRCJ'"
      ]
     },
     "execution_count": 34,
     "metadata": {},
     "output_type": "execute_result"
    }
   ],
   "source": [
    "''.join(rotor(ch, 1) for ch in 'ABCDEFGHIJKLMNOPQRSTUVWXYZ')"
   ]
  },
  {
   "cell_type": "code",
   "execution_count": 35,
   "metadata": {},
   "outputs": [],
   "source": [
    "cycles = ['AY', 'BR', 'CU', 'DH', 'EQ', 'FS', 'GL', 'IP', 'JX', 'KN', 'MO', 'TZ', 'VW']\n",
    "reflect_rules = dict()\n",
    "for cycle in cycles:\n",
    "    reflect_rules[cycle[0]] = cycle\n",
    "    reflect_rules[cycle[-1]] = cycle[::-1]\n",
    "\n",
    "def reflector(symbol, n):\n",
    "    return reflect_rules[symbol][n]"
   ]
  },
  {
   "cell_type": "code",
   "execution_count": 36,
   "metadata": {},
   "outputs": [
    {
     "name": "stdout",
     "output_type": "stream",
     "text": [
      "ABCDEFGHIJKLMNOPQRSTUVWXYZ\n",
      "YRUHQSLDPXNGOKMIEBFZCWVJAT\n",
      "FMOQQKUBAIZQHZQJZSMBQJYOIGQ\n"
     ]
    }
   ],
   "source": [
    "print(''.join(reflector(ch, 0) for ch in 'ABCDEFGHIJKLMNOPQRSTUVWXYZ'))\n",
    "print(''.join(reflector(ch, 1) for ch in 'ABCDEFGHIJKLMNOPQRSTUVWXYZ'))\n",
    "print(''.join(reflector(ch, 1) for ch in 'SOME ENCRYPTED TEXT FOR EXAMPLE'.replace(' ', '')))"
   ]
  },
  {
   "cell_type": "code",
   "execution_count": 37,
   "metadata": {},
   "outputs": [],
   "source": [
    "thresholds = [0, 17, 5, 22]\n",
    "\n",
    "\n",
    "def update(pairs):\n",
    "    pairs[2][1] = (pairs[2][1] + 1) % 26  # rot3\n",
    "    rotated = False\n",
    "    if pairs[2][1] == thresholds[pairs[2][0]]:\n",
    "        pairs[1][1] = (pairs[1][1] + 1) % 26\n",
    "        rotated = True\n",
    "    if pairs[1][1] + 1 == thresholds[pairs[1][0]] and not rotated:\n",
    "        pairs[1][1] = (pairs[1][1] + 1) % 26\n",
    "        pairs[0][1] = (pairs[0][1] + 1) % 26"
   ]
  },
  {
   "cell_type": "code",
   "execution_count": 38,
   "metadata": {},
   "outputs": [],
   "source": [
    "def com(pairs):\n",
    "    if not pairs:\n",
    "        return dict()\n",
    "\n",
    "    pairs = pairs.split(' ')\n",
    "    ch_to_ch = dict()\n",
    "    for pair in pairs:\n",
    "        if len(pair) != 2:\n",
    "            return None\n",
    "        pair = pair.upper()\n",
    "        ch1, ch2 = pair[0], pair[1]\n",
    "        if ch1 in ch_to_ch or ch2 in ch_to_ch:\n",
    "            return None\n",
    "        ch_to_ch[ch1] = ch2\n",
    "        ch_to_ch[ch2] = ch1\n",
    "\n",
    "    return ch_to_ch\n",
    "\n",
    "\n",
    "def commutate(ch, rules):\n",
    "    return rules[ch] if ch in rules else ch"
   ]
  },
  {
   "cell_type": "code",
   "execution_count": 39,
   "metadata": {},
   "outputs": [],
   "source": [
    "def enigma(text, ref, rot1, shift1, rot2, shift2, rot3, shift3, pairs=''):\n",
    "    s = ''\n",
    "    settings = [[rot1, shift1], [rot2, shift2], [rot3, shift3]]\n",
    "\n",
    "    rules = com(pairs)\n",
    "    if rules is None:\n",
    "        return 'Извините, невозможно произвести коммутацию'\n",
    "\n",
    "    for ch in text.upper().replace(' ', ''):\n",
    "        ch = commutate(ch, rules)\n",
    "        update(settings)\n",
    "        for rot, rot_shift in settings[::-1]:\n",
    "            ch = rotor(ch, rot, shift=rot_shift)\n",
    "        ch = reflector(ch, ref)\n",
    "        for rot, rot_shift in settings:\n",
    "            ch = rotor(ch, rot, shift=rot_shift, reverse=True)\n",
    "        ch = commutate(ch, rules)\n",
    "        s += ch\n",
    "\n",
    "    return s"
   ]
  },
  {
   "cell_type": "code",
   "execution_count": 40,
   "metadata": {},
   "outputs": [
    {
     "name": "stdout",
     "output_type": "stream",
     "text": [
      "B\n",
      "Q\n",
      "D\n",
      "Извините, невозможно произвести коммутацию\n",
      "Извините, невозможно произвести коммутацию\n",
      "BDZGOWC\n"
     ]
    }
   ],
   "source": [
    "print(enigma('A', 1, 1, 0, 2, 0, 3, 0, ''))\n",
    "print(enigma('A', 1, 1, 0, 2, 0, 3, 0, 'AC'))\n",
    "print(enigma('A', 1, 1, 0, 2, 0, 3, 0, 'AC qd'))\n",
    "print(enigma('A', 1, 1, 0, 2, 0, 3, 0, 'AC qd az'))\n",
    "print(enigma('A', 1, 1, 0, 2, 0, 3, 0, 'AC qd za'))\n",
    "print(enigma('AAAAAAA', 1, 1, 0, 2, 0, 3, 0))"
   ]
  }
 ],
 "metadata": {
  "kernelspec": {
   "display_name": "Python 3",
   "language": "python",
   "name": "python3"
  },
  "language_info": {
   "codemirror_mode": {
    "name": "ipython",
    "version": 3
   },
   "file_extension": ".py",
   "mimetype": "text/x-python",
   "name": "python",
   "nbconvert_exporter": "python",
   "pygments_lexer": "ipython3",
   "version": "3.7.7"
  }
 },
 "nbformat": 4,
 "nbformat_minor": 4
}
