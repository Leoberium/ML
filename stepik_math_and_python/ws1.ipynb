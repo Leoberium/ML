{
 "cells": [
  {
   "cell_type": "code",
   "execution_count": 1,
   "metadata": {},
   "outputs": [
    {
     "name": "stdout",
     "output_type": "stream",
     "text": [
      "1.718281828459045\n",
      "1.0517091807564771\n",
      "1.005016708416795\n",
      "1.0005001667083846\n",
      "1.000050001667141\n",
      "\n",
      "\n",
      "0.6321205588285577\n",
      "0.9516258196404048\n",
      "0.9950166250831893\n",
      "0.9995001666249781\n",
      "0.9999500016666385\n"
     ]
    }
   ],
   "source": [
    "from math import exp\n",
    "def f(x):\n",
    "    return (exp(x) - 1) / x\n",
    "\n",
    "x0 = 0\n",
    "dx_list = [1, 0.1, 0.01, 0.001, 0.0001]\n",
    "for dx in dx_list:\n",
    "    print(f(x0 + dx))\n",
    "print('\\n')\n",
    "for dx in dx_list:\n",
    "    print(f(x0 - dx))"
   ]
  },
  {
   "cell_type": "code",
   "execution_count": 2,
   "metadata": {},
   "outputs": [
    {
     "name": "stdout",
     "output_type": "stream",
     "text": [
      "7.0\n",
      "6.100000000000012\n",
      "6.009999999999849\n",
      "6.000999999999479\n",
      "6.000100000012054\n"
     ]
    }
   ],
   "source": [
    "def f(x):\n",
    "    return x**2\n",
    "\n",
    "f(-3), f(0), f(1), f(2)\n",
    "\n",
    "x0 = 3\n",
    "dx_list = [1, 0.1, 0.01, 0.001, 0.0001]\n",
    "for dx in dx_list:\n",
    "    print((f(x0 + dx) - f(x0)) / dx)"
   ]
  },
  {
   "cell_type": "code",
   "execution_count": 3,
   "metadata": {},
   "outputs": [],
   "source": [
    "def g(x):\n",
    "    return a * x + b\n",
    "\n",
    "x0 = 1\n",
    "dx = 0.0001\n",
    "\n",
    "a = ((f(x0 + dx) - f(x0)) / dx)\n",
    "b = f(x0) - a * x0"
   ]
  },
  {
   "cell_type": "code",
   "execution_count": 4,
   "metadata": {},
   "outputs": [
    {
     "data": {
      "image/png": "[encoded data removed]",
      "text/plain": [
       "<Figure size 432x288 with 1 Axes>"
      ]
     },
     "metadata": {
      "needs_background": "light"
     },
     "output_type": "display_data"
    }
   ],
   "source": [
    "import numpy as np\n",
    "import matplotlib.pyplot as plt\n",
    "%matplotlib inline\n",
    "\n",
    "x = np.arange(-1, 2, 0.01)\n",
    "\n",
    "plt.plot(x, f(x))\n",
    "plt.plot(x, g(x))\n",
    "plt.show()"
   ]
  },
  {
   "cell_type": "markdown",
   "metadata": {},
   "source": [
    "## Меняем местами переменные"
   ]
  },
  {
   "cell_type": "code",
   "execution_count": 5,
   "metadata": {},
   "outputs": [
    {
     "data": {
      "text/plain": [
       "(10, 5)"
      ]
     },
     "execution_count": 5,
     "metadata": {},
     "output_type": "execute_result"
    }
   ],
   "source": [
    "a, b = 5, 10\n",
    "temp = a\n",
    "a = b\n",
    "b = temp\n",
    "a, b"
   ]
  },
  {
   "cell_type": "code",
   "execution_count": 6,
   "metadata": {},
   "outputs": [
    {
     "data": {
      "text/plain": [
       "(5, 10)"
      ]
     },
     "execution_count": 6,
     "metadata": {},
     "output_type": "execute_result"
    }
   ],
   "source": [
    "a = a + b\n",
    "b = a - b\n",
    "a = a - b\n",
    "a, b"
   ]
  },
  {
   "cell_type": "code",
   "execution_count": 7,
   "metadata": {},
   "outputs": [
    {
     "data": {
      "text/plain": [
       "(10, 5)"
      ]
     },
     "execution_count": 7,
     "metadata": {},
     "output_type": "execute_result"
    }
   ],
   "source": [
    "(a, b) = (b, a)\n",
    "a, b"
   ]
  },
  {
   "cell_type": "code",
   "execution_count": 8,
   "metadata": {},
   "outputs": [
    {
     "data": {
      "text/plain": [
       "('sdasdsa', [1, 'sdsad'], 111)"
      ]
     },
     "execution_count": 8,
     "metadata": {},
     "output_type": "execute_result"
    }
   ],
   "source": [
    "a = 111\n",
    "b = 'sdasdsa'\n",
    "c = [1, 'sdsad']\n",
    "a, b, c = b, c, a\n",
    "a, b, c"
   ]
  },
  {
   "cell_type": "markdown",
   "metadata": {},
   "source": [
    "## Максимальное значение в списке"
   ]
  },
  {
   "cell_type": "code",
   "execution_count": 9,
   "metadata": {},
   "outputs": [
    {
     "data": {
      "text/plain": [
       "True"
      ]
     },
     "execution_count": 9,
     "metadata": {},
     "output_type": "execute_result"
    }
   ],
   "source": [
    "l = [10, 5, 8, -4, 9, 2, 111, 66, 42]\n",
    "cur_max = l[0]\n",
    "for element in l:\n",
    "    if element > cur_max:\n",
    "        cur_max = element\n",
    "        \n",
    "cur_max == max(l)"
   ]
  },
  {
   "cell_type": "code",
   "execution_count": 10,
   "metadata": {},
   "outputs": [
    {
     "data": {
      "text/plain": [
       "'xyz'"
      ]
     },
     "execution_count": 10,
     "metadata": {},
     "output_type": "execute_result"
    }
   ],
   "source": [
    "m = ['xyz', 'a', 'ab', 'bc', 'de', 'abcdef']\n",
    "max(m)"
   ]
  },
  {
   "cell_type": "code",
   "execution_count": 11,
   "metadata": {
    "scrolled": true
   },
   "outputs": [
    {
     "data": {
      "text/plain": [
       "'abcdef'"
      ]
     },
     "execution_count": 11,
     "metadata": {},
     "output_type": "execute_result"
    }
   ],
   "source": [
    "max(m, key=len)"
   ]
  },
  {
   "cell_type": "code",
   "execution_count": 12,
   "metadata": {},
   "outputs": [
    {
     "data": {
      "text/plain": [
       "['a', 'ab', 'abcdef', 'bc', 'de', 'xyz']"
      ]
     },
     "execution_count": 12,
     "metadata": {},
     "output_type": "execute_result"
    }
   ],
   "source": [
    "sorted(m)"
   ]
  },
  {
   "cell_type": "code",
   "execution_count": 13,
   "metadata": {
    "scrolled": true
   },
   "outputs": [
    {
     "data": {
      "text/plain": [
       "['a', 'ab', 'bc', 'de', 'xyz', 'abcdef']"
      ]
     },
     "execution_count": 13,
     "metadata": {},
     "output_type": "execute_result"
    }
   ],
   "source": [
    "sorted(m, key=len)"
   ]
  },
  {
   "cell_type": "markdown",
   "metadata": {},
   "source": [
    "## Удаление дубликатов из списка"
   ]
  },
  {
   "cell_type": "code",
   "execution_count": 14,
   "metadata": {},
   "outputs": [
    {
     "name": "stdout",
     "output_type": "stream",
     "text": [
      "[999999999, 1, 2, 5, 3, 6]\n"
     ]
    }
   ],
   "source": [
    "l = [999999999, 1, 2, 5, 3, 1, 2, 1, 1, 5, 6, 1]\n",
    "\n",
    "l_new = []\n",
    "\n",
    "for element in l:\n",
    "    if element not in l_new:\n",
    "        l_new.append(element)\n",
    "        \n",
    "print(l_new)"
   ]
  },
  {
   "cell_type": "code",
   "execution_count": 15,
   "metadata": {},
   "outputs": [
    {
     "data": {
      "text/plain": [
       "[1, 2, 3, 5, 6, 999999999]"
      ]
     },
     "execution_count": 15,
     "metadata": {},
     "output_type": "execute_result"
    }
   ],
   "source": [
    "list(set(l))"
   ]
  },
  {
   "cell_type": "code",
   "execution_count": 16,
   "metadata": {},
   "outputs": [
    {
     "data": {
      "text/plain": [
       "3"
      ]
     },
     "execution_count": 16,
     "metadata": {},
     "output_type": "execute_result"
    }
   ],
   "source": [
    "words = ['a', 'aa', 'aaa', 'anaconda', 'import', 'cat']\n",
    "\n",
    "def math_ends(L):\n",
    "    counter = 0\n",
    "    for word in L:\n",
    "        if len(word) > 1 and word[0] == word[-1]:\n",
    "            counter += 1\n",
    "    return counter\n",
    "\n",
    "math_ends(words)"
   ]
  },
  {
   "cell_type": "code",
   "execution_count": 17,
   "metadata": {},
   "outputs": [
    {
     "data": {
      "text/plain": [
       "['x-files', 'xapple', 'xyz', 'apple', 'extra', 'mix']"
      ]
     },
     "execution_count": 17,
     "metadata": {},
     "output_type": "execute_result"
    }
   ],
   "source": [
    "words = ['mix', 'extra', 'x-files', 'xyz', 'xapple', 'apple']\n",
    "\n",
    "def front_x(words):\n",
    "    x_first = [word for word in words if word[0] == 'x']\n",
    "    not_x_first = [word for word in words if word[0] != 'x']\n",
    "    return sorted(x_first) + sorted(not_x_first)\n",
    "\n",
    "front_x(words)"
   ]
  },
  {
   "cell_type": "code",
   "execution_count": 18,
   "metadata": {},
   "outputs": [
    {
     "data": {
      "text/plain": [
       "[(2, 1), (1, 3), (3, 4, 5), (1, 7)]"
      ]
     },
     "execution_count": 18,
     "metadata": {},
     "output_type": "execute_result"
    }
   ],
   "source": [
    "tuples = [(1, 7), (2, 1), (1, 3), (3, 4, 5)]\n",
    "\n",
    "sorted(tuples, key=lambda x: x[-1])"
   ]
  },
  {
   "cell_type": "markdown",
   "metadata": {},
   "source": [
    "# HOMEWORK"
   ]
  },
  {
   "cell_type": "code",
   "execution_count": 19,
   "metadata": {},
   "outputs": [
    {
     "name": "stdout",
     "output_type": "stream",
     "text": [
      "3.142\n"
     ]
    }
   ],
   "source": [
    "from math import atan\n",
    "\n",
    "def f(x):\n",
    "    return 2 * atan(x)\n",
    "\n",
    "lim = round(f(1000000000000), 3)\n",
    "print(lim)"
   ]
  },
  {
   "cell_type": "code",
   "execution_count": 20,
   "metadata": {},
   "outputs": [
    {
     "name": "stdout",
     "output_type": "stream",
     "text": [
      "20.086\n"
     ]
    }
   ],
   "source": [
    "from math import exp\n",
    "\n",
    "def def_e(x):\n",
    "    dx = 0.000001\n",
    "    return round((exp(x +dx) - exp(x)) / dx, 3)\n",
    "\n",
    "print(def_e(3))"
   ]
  },
  {
   "cell_type": "code",
   "execution_count": 21,
   "metadata": {},
   "outputs": [
    {
     "name": "stdout",
     "output_type": "stream",
     "text": [
      "[1, 2, 5, 13, 34]\n"
     ]
    }
   ],
   "source": [
    "l = [1, 1, 2, 3, 5, 8, 13, 21, 34]\n",
    "\n",
    "\n",
    "def even_indices(l):\n",
    "    return [l[i] for i in range(0, len(l), 2)]\n",
    "\n",
    "\n",
    "print(even_indices(l))"
   ]
  },
  {
   "cell_type": "code",
   "execution_count": 22,
   "metadata": {},
   "outputs": [],
   "source": [
    "def even_elements(l):\n",
    "    return [x for x in l if x % 2 == 0]"
   ]
  },
  {
   "cell_type": "code",
   "execution_count": 23,
   "metadata": {
    "scrolled": true
   },
   "outputs": [
    {
     "name": "stdout",
     "output_type": "stream",
     "text": [
      "735\n"
     ]
    }
   ],
   "source": [
    "n = 100\n",
    "res = sum([x for x in range(n + 1) if x % 5 == 0 and x % 3 != 0])\n",
    "print(res)"
   ]
  },
  {
   "cell_type": "code",
   "execution_count": 24,
   "metadata": {},
   "outputs": [
    {
     "name": "stdout",
     "output_type": "stream",
     "text": [
      "['x-files', 'xapple', 'xyz', '', 'apple', 'extra', 'mix']\n"
     ]
    }
   ],
   "source": [
    "words = ['mix', 'extra', '', 'x-files', 'xyz', 'xapple', 'apple']\n",
    "\n",
    "\n",
    "def front_x(words):\n",
    "    x_only = sorted([word for word in words if word and word[0] == 'x'])\n",
    "    other = sorted([word for word in words if word not in x_only])\n",
    "    return x_only + other\n",
    "\n",
    "\n",
    "print(front_x(words))"
   ]
  },
  {
   "cell_type": "code",
   "execution_count": 25,
   "metadata": {},
   "outputs": [
    {
     "data": {
      "text/plain": [
       "(1, 1, 5, 34)"
      ]
     },
     "execution_count": 25,
     "metadata": {},
     "output_type": "execute_result"
    }
   ],
   "source": [
    "def fib(n):\n",
    "    a, b = 1, 1\n",
    "    for i in range(3, n + 1):\n",
    "        b, a = b + a, b\n",
    "    return b\n",
    "\n",
    "fib(1), fib(2), fib(5), fib(9)"
   ]
  },
  {
   "cell_type": "code",
   "execution_count": 26,
   "metadata": {},
   "outputs": [
    {
     "data": {
      "text/plain": [
       "(True, True, False)"
      ]
     },
     "execution_count": 26,
     "metadata": {},
     "output_type": "execute_result"
    }
   ],
   "source": [
    "def is_prime(n):\n",
    "    return all([n % i != 0 for i in range(2, int(n**0.5 + 1))])\n",
    "\n",
    "is_prime(2), is_prime(3), is_prime(4)"
   ]
  },
  {
   "cell_type": "code",
   "execution_count": 27,
   "metadata": {},
   "outputs": [
    {
     "name": "stdout",
     "output_type": "stream",
     "text": [
      "Всего пончиков: много\n",
      "Всего пончиков: 5\n"
     ]
    }
   ],
   "source": [
    "def donuts(n):\n",
    "    return f'Всего пончиков: {n}' if n < 10 else f'Всего пончиков: много'\n",
    "\n",
    "\n",
    "print(donuts(12))\n",
    "print(donuts(5))"
   ]
  },
  {
   "cell_type": "code",
   "execution_count": 28,
   "metadata": {},
   "outputs": [
    {
     "name": "stdout",
     "output_type": "stream",
     "text": [
      "\n"
     ]
    }
   ],
   "source": [
    "s = 'a'\n",
    "def both_ends(s):\n",
    "    return s[:2] + s[-2:] if len(s) > 1 else ''\n",
    "print(both_ends(s))"
   ]
  },
  {
   "cell_type": "code",
   "execution_count": 29,
   "metadata": {},
   "outputs": [
    {
     "name": "stdout",
     "output_type": "stream",
     "text": [
      "ba**le\n"
     ]
    }
   ],
   "source": [
    "s = 'babble'\n",
    "def fix_start(s):\n",
    "    acc = s[0]\n",
    "    for ch in s[1:]:\n",
    "        acc += ch if ch != s[0] else '*'\n",
    "    return acc\n",
    "print(fix_start(s))"
   ]
  }
 ],
 "metadata": {
  "kernelspec": {
   "display_name": "Python 3",
   "language": "python",
   "name": "python3"
  },
  "language_info": {
   "codemirror_mode": {
    "name": "ipython",
    "version": 3
   },
   "file_extension": ".py",
   "mimetype": "text/x-python",
   "name": "python",
   "nbconvert_exporter": "python",
   "pygments_lexer": "ipython3",
   "version": "3.7.7"
  }
 },
 "nbformat": 4,
 "nbformat_minor": 4
}
