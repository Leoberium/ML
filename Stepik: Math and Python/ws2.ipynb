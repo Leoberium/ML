{
 "cells": [
  {
   "cell_type": "code",
   "execution_count": 1,
   "metadata": {
    "scrolled": true
   },
   "outputs": [
    {
     "name": "stdout",
     "output_type": "stream",
     "text": [
      "0.667\n",
      "0.667\n"
     ]
    }
   ],
   "source": [
    "plus_inf = float('+inf')\n",
    "minus_inf = float('-inf')\n",
    "\n",
    "f = lambda x: (2 * x**2 - 3 * x - 5) / (3 * x**2 + x + 1)\n",
    "\n",
    "print(round(f(1e8), 3))\n",
    "print(round(f(-1e8), 3))"
   ]
  },
  {
   "cell_type": "code",
   "execution_count": 2,
   "metadata": {},
   "outputs": [
    {
     "name": "stdout",
     "output_type": "stream",
     "text": [
      "-0.0\n"
     ]
    }
   ],
   "source": [
    "from math import sin, pi\n",
    "\n",
    "f = lambda x: sin(pi * x / 2) / x\n",
    "\n",
    "print(round(f(1e8), 3))"
   ]
  },
  {
   "cell_type": "code",
   "execution_count": 3,
   "metadata": {},
   "outputs": [
    {
     "data": {
      "text/plain": [
       "1.0"
      ]
     },
     "execution_count": 3,
     "metadata": {},
     "output_type": "execute_result"
    }
   ],
   "source": [
    "from math import exp\n",
    "\n",
    "f = lambda x: exp(x)\n",
    "\n",
    "def derivative(f, x0=0):\n",
    "    dx = 0.0001\n",
    "    return round((f(x0 + dx) - f(x0)) / dx, 3)\n",
    "\n",
    "derivative(f)"
   ]
  },
  {
   "cell_type": "code",
   "execution_count": 4,
   "metadata": {},
   "outputs": [
    {
     "data": {
      "text/plain": [
       "['one', 343, 2, 9, 9, 9, 666, 666, 42]"
      ]
     },
     "execution_count": 4,
     "metadata": {},
     "output_type": "execute_result"
    }
   ],
   "source": [
    "def list_pull(L):\n",
    "    ans = []\n",
    "    for x in L:\n",
    "        if type(x) is list:\n",
    "            ans += list_pull(x)\n",
    "        else:\n",
    "            ans.append(x)\n",
    "    return ans\n",
    "\n",
    "list_pull([['one'], [343, 2], [[9, 9, 9], [[666, 666], [[[[42]]]]]]])"
   ]
  },
  {
   "cell_type": "code",
   "execution_count": 5,
   "metadata": {},
   "outputs": [
    {
     "data": {
      "text/plain": [
       "[['one'], [343, 2], [[9, 9, 9], [[666, 666], [[[[42]]]]]]]"
      ]
     },
     "execution_count": 5,
     "metadata": {},
     "output_type": "execute_result"
    }
   ],
   "source": [
    "def list_copy(L):\n",
    "    ans = [None] * len(L)\n",
    "    for i in range(len(L)):\n",
    "        x = L[i]\n",
    "        if type(x) is list:\n",
    "            ans[i] = list_copy(x)\n",
    "        else:\n",
    "            ans[i] = x\n",
    "    return ans\n",
    "\n",
    "L1 = [['one'], [343, 2], [[9, 9, 9], [[666, 666], [[[[42]]]]]]]\n",
    "L2 = list_copy(L1)\n",
    "L2"
   ]
  },
  {
   "cell_type": "code",
   "execution_count": 6,
   "metadata": {},
   "outputs": [],
   "source": [
    "def verbing(s):\n",
    "    if len(s) >= 3:\n",
    "        return s + 'ing' if 'ing' not in s else s + 'ly'\n",
    "    else:\n",
    "        return s"
   ]
  },
  {
   "cell_type": "code",
   "execution_count": 7,
   "metadata": {},
   "outputs": [
    {
     "data": {
      "text/plain": [
       "'KitDontenut'"
      ]
     },
     "execution_count": 7,
     "metadata": {},
     "output_type": "execute_result"
    }
   ],
   "source": [
    "def front_back(a, b):\n",
    "    da, db = len(a) // 2 + (len(a) % 2 == 1), len(b) // 2 + (len(b) % 2 == 1)\n",
    "    return a[:da] + b[:db] + a[da:] + b[db:]\n",
    "a = 'Kitten'\n",
    "b = 'Donut'\n",
    "front_back(a, b)"
   ]
  },
  {
   "cell_type": "code",
   "execution_count": 8,
   "metadata": {},
   "outputs": [
    {
     "data": {
      "text/plain": [
       "{'': ['a'],\n",
       " 'a': ['cat', 'dog', 'fly'],\n",
       " 'cat': ['and'],\n",
       " 'and': ['a'],\n",
       " 'dog': ['a']}"
      ]
     },
     "execution_count": 8,
     "metadata": {},
     "output_type": "execute_result"
    }
   ],
   "source": [
    "def mimic_dict(string):\n",
    "    s = string.split()\n",
    "    d = {'': [s[0]]}\n",
    "    for i in range(len(s) - 1):\n",
    "        word = s[i]\n",
    "        if word in d:\n",
    "            d[word].append(s[i+1])\n",
    "        else:\n",
    "            d[word] = [s[i+1]]\n",
    "    return d\n",
    "\n",
    "s = 'a cat and a dog\\na fly'\n",
    "mimic_dict(s)"
   ]
  },
  {
   "cell_type": "code",
   "execution_count": 9,
   "metadata": {},
   "outputs": [],
   "source": [
    "import random as rnd\n",
    "\n",
    "def print_mimic(mimic_dict, word):\n",
    "    s = [''] * 200\n",
    "    s[0] = word\n",
    "    for i in range(1, 200):\n",
    "        s[i] = rnd.choice(mimic_dict[s[i-1] if s[i-1] in mimic_dict else ''])\n",
    "    return ' '.join(s)\n"
   ]
  }
 ],
 "metadata": {
  "kernelspec": {
   "display_name": "Python 3",
   "language": "python",
   "name": "python3"
  },
  "language_info": {
   "codemirror_mode": {
    "name": "ipython",
    "version": 3
   },
   "file_extension": ".py",
   "mimetype": "text/x-python",
   "name": "python",
   "nbconvert_exporter": "python",
   "pygments_lexer": "ipython3",
   "version": "3.7.4"
  }
 },
 "nbformat": 4,
 "nbformat_minor": 4
}
