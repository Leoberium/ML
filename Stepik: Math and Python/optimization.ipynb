{
 "cells": [
  {
   "cell_type": "code",
   "execution_count": 1,
   "metadata": {},
   "outputs": [],
   "source": [
    "def f(x):\n",
    "    return(x**2 + 2 * x + 1)"
   ]
  },
  {
   "cell_type": "code",
   "execution_count": 2,
   "metadata": {},
   "outputs": [],
   "source": [
    "def g(x):\n",
    "    return f(x) // 1"
   ]
  },
  {
   "cell_type": "code",
   "execution_count": 3,
   "metadata": {},
   "outputs": [],
   "source": [
    "def S(x):\n",
    "    hexagon = 3 * 3**0.5 * x**2 / 2\n",
    "    pentagon = 5**0.5 * (5 + 2 * 5**0.5)**0.5 * x**2 / 4\n",
    "    return 20 * hexagon + 12 * pentagon\n",
    "\n",
    "def S_ceil(x):\n",
    "    return int(S(x) + 1)"
   ]
  },
  {
   "cell_type": "code",
   "execution_count": 5,
   "metadata": {},
   "outputs": [
    {
     "name": "stdout",
     "output_type": "stream",
     "text": [
      "-2.0 -0.2679491917808566\n"
     ]
    }
   ],
   "source": [
    "from scipy.optimize import golden\n",
    "\n",
    "\n",
    "def f(x):\n",
    "    return((x + 2)**2 - 3)\n",
    "\n",
    "\n",
    "def g(x):\n",
    "    return(abs(f(x)))\n",
    "\n",
    "\n",
    "min_f = golden(f)\n",
    "min_g = golden(g)\n",
    "\n",
    "print(min_f, min_g)"
   ]
  },
  {
   "cell_type": "code",
   "execution_count": 6,
   "metadata": {},
   "outputs": [
    {
     "data": {
      "text/plain": [
       "-0.2679491917808566"
      ]
     },
     "execution_count": 6,
     "metadata": {},
     "output_type": "execute_result"
    }
   ],
   "source": [
    "a, b = 3, 4\n",
    "golden(g)"
   ]
  },
  {
   "cell_type": "code",
   "execution_count": 7,
   "metadata": {},
   "outputs": [
    {
     "name": "stdout",
     "output_type": "stream",
     "text": [
      "-4.0 1.0706354913736504e-08\n"
     ]
    }
   ],
   "source": [
    "from scipy.optimize import golden\n",
    "\n",
    "\n",
    "def f(x):\n",
    "    return((x + a)**2 - b)\n",
    "\n",
    "\n",
    "def g(x):\n",
    "    return(abs(f(x)))\n",
    "\n",
    "\n",
    "min_f = golden(f, brack=(-10, -4))\n",
    "min_g = golden(g, brack=(-10, -4))\n",
    "\n",
    "print(f(min_f), g(min_g))"
   ]
  },
  {
   "cell_type": "markdown",
   "metadata": {},
   "source": [
    "### Спектральное разложение"
   ]
  },
  {
   "cell_type": "code",
   "execution_count": 8,
   "metadata": {},
   "outputs": [],
   "source": [
    "import numpy as np\n",
    "np.set_printoptions(precision=2, suppress=True)"
   ]
  },
  {
   "cell_type": "code",
   "execution_count": 9,
   "metadata": {},
   "outputs": [
    {
     "data": {
      "text/plain": [
       "array([[ 1.,  2., -1.],\n",
       "       [ 2.,  2.,  5.],\n",
       "       [-1.,  5., -3.]])"
      ]
     },
     "execution_count": 9,
     "metadata": {},
     "output_type": "execute_result"
    }
   ],
   "source": [
    "A = np.array([[1., 2., -1.],\n",
    "             [2., 2., 5.],\n",
    "             [-1., 5., -3.]])\n",
    "A"
   ]
  },
  {
   "cell_type": "code",
   "execution_count": 10,
   "metadata": {},
   "outputs": [],
   "source": [
    "v, w = np.linalg.eigh(A)"
   ]
  },
  {
   "cell_type": "code",
   "execution_count": 11,
   "metadata": {},
   "outputs": [
    {
     "data": {
      "text/plain": [
       "array([-6.58,  1.15,  5.43])"
      ]
     },
     "execution_count": 11,
     "metadata": {},
     "output_type": "execute_result"
    }
   ],
   "source": [
    "v"
   ]
  },
  {
   "cell_type": "code",
   "execution_count": 12,
   "metadata": {},
   "outputs": [
    {
     "data": {
      "text/plain": [
       "array([[-0.25,  0.93, -0.27],\n",
       "       [ 0.53, -0.11, -0.84],\n",
       "       [-0.81, -0.35, -0.47]])"
      ]
     },
     "execution_count": 12,
     "metadata": {},
     "output_type": "execute_result"
    }
   ],
   "source": [
    "w"
   ]
  },
  {
   "cell_type": "code",
   "execution_count": 14,
   "metadata": {},
   "outputs": [
    {
     "data": {
      "text/plain": [
       "array([[-6.58,  0.  ,  0.  ],\n",
       "       [ 0.  ,  1.15,  0.  ],\n",
       "       [ 0.  ,  0.  ,  5.43]])"
      ]
     },
     "execution_count": 14,
     "metadata": {},
     "output_type": "execute_result"
    }
   ],
   "source": [
    "D = np.diag(v)\n",
    "D"
   ]
  },
  {
   "cell_type": "code",
   "execution_count": 15,
   "metadata": {},
   "outputs": [],
   "source": [
    "S = w.T"
   ]
  },
  {
   "cell_type": "code",
   "execution_count": 16,
   "metadata": {},
   "outputs": [
    {
     "data": {
      "text/plain": [
       "array([[1., 0., 0.],\n",
       "       [0., 1., 0.],\n",
       "       [0., 0., 1.]])"
      ]
     },
     "execution_count": 16,
     "metadata": {},
     "output_type": "execute_result"
    }
   ],
   "source": [
    "S.T @ S"
   ]
  },
  {
   "cell_type": "code",
   "execution_count": 17,
   "metadata": {},
   "outputs": [
    {
     "data": {
      "text/plain": [
       "array([[ 1.,  2., -1.],\n",
       "       [ 2.,  2.,  5.],\n",
       "       [-1.,  5., -3.]])"
      ]
     },
     "execution_count": 17,
     "metadata": {},
     "output_type": "execute_result"
    }
   ],
   "source": [
    "S.T @ D @ S"
   ]
  },
  {
   "cell_type": "code",
   "execution_count": 18,
   "metadata": {},
   "outputs": [
    {
     "name": "stdout",
     "output_type": "stream",
     "text": [
      "D=\n",
      " [[-6.58  0.    0.  ]\n",
      " [ 0.    1.15  0.  ]\n",
      " [ 0.    0.    5.43]]\n",
      "S=\n",
      " [[-0.25  0.53 -0.81]\n",
      " [ 0.93 -0.11 -0.35]\n",
      " [-0.27 -0.84 -0.47]]\n"
     ]
    }
   ],
   "source": [
    "print('D=\\n', D)\n",
    "print('S=\\n', S)"
   ]
  }
 ],
 "metadata": {
  "kernelspec": {
   "display_name": "Python 3",
   "language": "python",
   "name": "python3"
  },
  "language_info": {
   "codemirror_mode": {
    "name": "ipython",
    "version": 3
   },
   "file_extension": ".py",
   "mimetype": "text/x-python",
   "name": "python",
   "nbconvert_exporter": "python",
   "pygments_lexer": "ipython3",
   "version": "3.7.4"
  }
 },
 "nbformat": 4,
 "nbformat_minor": 4
}
