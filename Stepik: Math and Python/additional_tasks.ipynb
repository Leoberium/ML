{
 "cells": [
  {
   "cell_type": "code",
   "execution_count": null,
   "metadata": {},
   "outputs": [],
   "source": [
    "import sys\n",
    "\n",
    "a = list(map(int, input().split()))\n",
    "\n",
    "def g(x):\n",
    "    k = len(x)\n",
    "    if all(x[0] == el for el in x[1:]):\n",
    "        return sum(x) // len(x), 0\n",
    "    m = 1000000\n",
    "    n = 1000000\n",
    "    for i in range(k - 1):\n",
    "        for j in range(i + 1, k):\n",
    "            x[i] += 1\n",
    "            x[j] += 1\n",
    "            n_new, m_new = g(x)\n",
    "            if m_new < m:\n",
    "                m = m_new\n",
    "                n = n_new\n",
    "            x[i] -= 1\n",
    "            x[j] -= 1\n",
    "    return n, m\n",
    "\n",
    "def f(x):\n",
    "    if len(x) < 2:\n",
    "        print('Ошибка. Кучек слишком мало, чтобы можно было решить задачу.')\n",
    "    elif len(x) == 2 and x[0] != x[1]:\n",
    "        print('Кучки нельзя уравнять')\n",
    "    else:\n",
    "        if sum(x) % 2 != 0 and len(x) % 2 == 0:\n",
    "            print('Кучки нельзя уравнять')\n",
    "        else:\n",
    "            print(g(x))\n",
    "f(a)"
   ]
  },
  {
   "cell_type": "code",
   "execution_count": null,
   "metadata": {},
   "outputs": [],
   "source": []
  }
 ],
 "metadata": {
  "kernelspec": {
   "display_name": "Python 3",
   "language": "python",
   "name": "python3"
  },
  "language_info": {
   "codemirror_mode": {
    "name": "ipython",
    "version": 3
   },
   "file_extension": ".py",
   "mimetype": "text/x-python",
   "name": "python",
   "nbconvert_exporter": "python",
   "pygments_lexer": "ipython3",
   "version": "3.7.7"
  }
 },
 "nbformat": 4,
 "nbformat_minor": 4
}
