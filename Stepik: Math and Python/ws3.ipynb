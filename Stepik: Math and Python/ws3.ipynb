{
 "cells": [
  {
   "cell_type": "markdown",
   "metadata": {},
   "source": [
    "## Линейная независимость векторов"
   ]
  },
  {
   "cell_type": "code",
   "execution_count": 1,
   "metadata": {},
   "outputs": [],
   "source": [
    "import numpy as np"
   ]
  },
  {
   "cell_type": "code",
   "execution_count": 2,
   "metadata": {},
   "outputs": [
    {
     "data": {
      "text/plain": [
       "array([-3., 10.,  0.])"
      ]
     },
     "execution_count": 2,
     "metadata": {},
     "output_type": "execute_result"
    }
   ],
   "source": [
    "e1 = np.array([1., 0., 0.])\n",
    "e2 = np.array([0., 5., 0.])\n",
    "-3 * e1 + 2 * e2"
   ]
  },
  {
   "cell_type": "code",
   "execution_count": 3,
   "metadata": {},
   "outputs": [],
   "source": [
    "a = np.array([-3., 10., 0.])"
   ]
  },
  {
   "cell_type": "code",
   "execution_count": 4,
   "metadata": {},
   "outputs": [
    {
     "data": {
      "text/plain": [
       "array([0., 0., 0.])"
      ]
     },
     "execution_count": 4,
     "metadata": {},
     "output_type": "execute_result"
    }
   ],
   "source": [
    "3 * e1 - 2 * e2 + 1* a"
   ]
  },
  {
   "cell_type": "code",
   "execution_count": 5,
   "metadata": {},
   "outputs": [
    {
     "data": {
      "text/plain": [
       "array([ True,  True,  True])"
      ]
     },
     "execution_count": 5,
     "metadata": {},
     "output_type": "execute_result"
    }
   ],
   "source": [
    "a == -3 * e1 + 2 * e2"
   ]
  },
  {
   "cell_type": "code",
   "execution_count": 6,
   "metadata": {},
   "outputs": [
    {
     "data": {
      "text/plain": [
       "array([[ 1.,  0.,  0.],\n",
       "       [ 0.,  5.,  0.],\n",
       "       [-3., 10.,  0.]])"
      ]
     },
     "execution_count": 6,
     "metadata": {},
     "output_type": "execute_result"
    }
   ],
   "source": [
    "M = np.array([e1, e2, a])\n",
    "M"
   ]
  },
  {
   "cell_type": "code",
   "execution_count": 7,
   "metadata": {},
   "outputs": [
    {
     "data": {
      "text/plain": [
       "2"
      ]
     },
     "execution_count": 7,
     "metadata": {},
     "output_type": "execute_result"
    }
   ],
   "source": [
    "np.linalg.matrix_rank(M)"
   ]
  },
  {
   "cell_type": "code",
   "execution_count": 8,
   "metadata": {},
   "outputs": [
    {
     "data": {
      "text/plain": [
       "array([0., 0., 0.])"
      ]
     },
     "execution_count": 8,
     "metadata": {},
     "output_type": "execute_result"
    }
   ],
   "source": [
    "b1, b2, b3 = M[:, 0], M[:, 1], M[:, 2]\n",
    "0 * b1 + 0 * b2 + b3"
   ]
  },
  {
   "cell_type": "code",
   "execution_count": 9,
   "metadata": {},
   "outputs": [
    {
     "name": "stdout",
     "output_type": "stream",
     "text": [
      "[[0 0 0]\n",
      " [0 1 0]\n",
      " [1 1 0]]\n",
      "2\n",
      "0 0 1 1 1 0\n",
      "\n",
      "[[1 0 0]\n",
      " [0 1 0]\n",
      " [1 0 0]]\n",
      "2\n",
      "1 0 1 1 0 0\n",
      "\n",
      "[[1 0 0]\n",
      " [1 0 0]\n",
      " [0 1 0]]\n",
      "2\n",
      "1 1 0 0 1 0\n",
      "\n",
      "[[1 0 0]\n",
      " [0 1 0]\n",
      " [0 0 1]]\n",
      "3\n",
      "1 0 0 1 0 1\n",
      "\n",
      "[[0 0 0]\n",
      " [0 0 0]\n",
      " [1 1 1]]\n",
      "1\n",
      "0 0 1 0 1 1\n",
      "\n",
      "[[0 0 0]\n",
      " [1 1 0]\n",
      " [1 0 0]]\n",
      "2\n",
      "0 1 1 1 0 0\n",
      "\n"
     ]
    }
   ],
   "source": [
    "M = np.array([\n",
    "    #a, b, c, d, e, f\n",
    "    [0, 0, 1, 1, 1, 0],\n",
    "    [1, 0, 1, 1, 0, 0],\n",
    "    [1, 1, 0, 0, 1, 0],\n",
    "    [1, 0, 0, 1, 0, 1],\n",
    "    [0, 0, 1, 0, 1, 1],\n",
    "    [0, 1, 1, 1, 0, 0]\n",
    "])\n",
    "\n",
    "for a, b, c, d, e, f in M:\n",
    "    N = np.array([\n",
    "        [a, 0, 0],\n",
    "        [b, d, 0],\n",
    "        [c, e, f]\n",
    "    ])\n",
    "    print(N)\n",
    "    print(np.linalg.matrix_rank(N))\n",
    "    print(a, b, c, d, e, f)\n",
    "    print()\n"
   ]
  },
  {
   "cell_type": "code",
   "execution_count": 10,
   "metadata": {},
   "outputs": [
    {
     "data": {
      "text/plain": [
       "3"
      ]
     },
     "execution_count": 10,
     "metadata": {},
     "output_type": "execute_result"
    }
   ],
   "source": [
    "M = np.array([\n",
    "    [1, -1, 0, 0],\n",
    "    [1, 0, -1, 0],\n",
    "    [1, 0, 0, -1],\n",
    "    [0, 1, -1, 0],\n",
    "    [0, 1, 0, -1],\n",
    "    [0, 0, 1, -1]\n",
    "])\n",
    "np.linalg.matrix_rank(M)"
   ]
  },
  {
   "cell_type": "code",
   "execution_count": 11,
   "metadata": {},
   "outputs": [
    {
     "data": {
      "text/plain": [
       "array([[ 1,  2,  2],\n",
       "       [-1,  2,  1],\n",
       "       [ 0,  8,  0]])"
      ]
     },
     "execution_count": 11,
     "metadata": {},
     "output_type": "execute_result"
    }
   ],
   "source": [
    "MM = np.array([\n",
    "    [\n",
    "        (1, 2, 2),\n",
    "        (-1, 2, 1),\n",
    "        (0, 8, 0)\n",
    "    ],\n",
    "    [\n",
    "        (1, 2, 2),\n",
    "        (-1, 2, 1),\n",
    "        (0, 8, 6)\n",
    "    ]\n",
    "])\n",
    "MM[0]"
   ]
  },
  {
   "cell_type": "code",
   "execution_count": 12,
   "metadata": {},
   "outputs": [
    {
     "name": "stdout",
     "output_type": "stream",
     "text": [
      "3\n",
      "2\n"
     ]
    }
   ],
   "source": [
    "for M in MM:\n",
    "    print(np.linalg.matrix_rank(M))"
   ]
  }
 ],
 "metadata": {
  "kernelspec": {
   "display_name": "Python 3",
   "language": "python",
   "name": "python3"
  },
  "language_info": {
   "codemirror_mode": {
    "name": "ipython",
    "version": 3
   },
   "file_extension": ".py",
   "mimetype": "text/x-python",
   "name": "python",
   "nbconvert_exporter": "python",
   "pygments_lexer": "ipython3",
   "version": "3.7.7"
  }
 },
 "nbformat": 4,
 "nbformat_minor": 4
}
